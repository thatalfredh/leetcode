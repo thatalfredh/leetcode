{
 "cells": [
  {
   "cell_type": "markdown",
   "id": "57a12fb3-f2c8-4164-8c11-d12df2995921",
   "metadata": {},
   "source": [
    "## Dynamic Programming\n",
    "---"
   ]
  },
  {
   "cell_type": "code",
   "execution_count": 2,
   "metadata": {},
   "outputs": [],
   "source": [
    "from typing import List"
   ]
  },
  {
   "cell_type": "markdown",
   "id": "a2d73efd-11d1-40e5-a9d1-2da5a23cdf97",
   "metadata": {},
   "source": [
    "### 1. [Maximum Subarray (medium)](https://leetcode.com/problems/maximum-subarray/)\n",
    "\n",
    "Given an integer array `nums`, find the subarray with the largest sum, and return its sum.\n",
    "\n",
    "**Example 1:**\n",
    "\n",
    "Input: nums = [-2,1,-3,4,-1,2,1,-5,4]\\\n",
    "Output: 6\\\n",
    "Explanation: The subarray [4,-1,2,1] has the largest sum 6.\n",
    "\n",
    "**Example 2:**\n",
    "\n",
    "Input: nums = [1]\\\n",
    "Output: 1\\\n",
    "Explanation: The subarray [1] has the largest sum 1.\n",
    "\n",
    "**Example 3:**\n",
    "\n",
    "Input: nums = [5,4,-1,7,8]\\\n",
    "Output: 23\\\n",
    "Explanation: The subarray [5,4,-1,7,8] has the largest sum 23."
   ]
  },
  {
   "cell_type": "code",
   "execution_count": 5,
   "id": "8a013a91-b58a-4b1a-a489-6555117ce6ea",
   "metadata": {},
   "outputs": [
    {
     "data": {
      "text/plain": [
       "6"
      ]
     },
     "execution_count": 5,
     "metadata": {},
     "output_type": "execute_result"
    }
   ],
   "source": [
    "class Solution:\n",
    "    \"\"\"\n",
    "    the key thing here that makes the algorithm works is the fact that we would not want to consider\n",
    "    negative sum prior to our maximum subarray\n",
    "    \n",
    "    e.g. [x1, x2, x3, x4]\n",
    "    \n",
    "    if x1 + x2 <= 0:\n",
    "        x1 + x2 + x3 + x4 <= x3 + x4 + x5\n",
    "    \"\"\"\n",
    "    def maxSubArray(self, nums: List[int]) -> int:\n",
    "        max_sum = -float('inf')\n",
    "        cur_sum = 0\n",
    "        for i in range(len(nums)):\n",
    "            if cur_sum < 0:\n",
    "                cur_sum = 0\n",
    "            cur_sum += nums[i]\n",
    "            max_sum = max(max_sum, cur_sum)\n",
    "        return max_sum\n",
    "\n",
    "sol = Solution()\n",
    "sol.maxSubArray(nums=[-2,1,-3,4,-1,2,1,-5,4])"
   ]
  },
  {
   "cell_type": "markdown",
   "id": "e8a91c8b-f34f-44e0-bac4-a62bd741ca14",
   "metadata": {},
   "source": [
    "### 2. [Coin Change (medium)](https://leetcode.com/problems/coin-change/)\n",
    "\n",
    "You are given an integer array `coins` representing coins of different denominations and an integer `amount` representing a total amount of money. Return the fewest number of coins that you need to make up that `amount`. If that amount of money cannot be made up by any combination of the coins, return `-1`.\n",
    "\n",
    "You may assume that you have an infinite number of each kind of coin.\n",
    "\n",
    "**Example 1:**\n",
    "\n",
    "Input: coins = [1,2,5], amount = 11\\\n",
    "Output: 3\\\n",
    "Explanation: 11 = 5 + 5 + 1\n",
    "\n",
    "**Example 2:**\n",
    "\n",
    "Input: coins = [2], amount = 3\\\n",
    "Output: -1\n",
    "\n",
    "**Example 3:**\n",
    "\n",
    "Input: coins = [1], amount = 0\\\n",
    "Output: 0"
   ]
  },
  {
   "cell_type": "code",
   "execution_count": 5,
   "id": "a46a8e1c-865b-4887-86c4-8563ca495456",
   "metadata": {},
   "outputs": [
    {
     "data": {
      "text/plain": [
       "[0, 1, 2, 3, 4, 1, 2, 3, 4, 5, 1, 2, 3]"
      ]
     },
     "execution_count": 5,
     "metadata": {},
     "output_type": "execute_result"
    }
   ],
   "source": [
    "class Solution:\n",
    "    \"\"\"\n",
    "    if we analyze this problem Top-Down via DFS backtracking,\n",
    "    we would notice that there are duplicated computations where selecting c1 or c2 now\n",
    "    will produce the same subproblems just at different point in time\n",
    "    \n",
    "    e.g. [1,3], n = 7 then f(7) = f(7-1) + f(7-3) \n",
    "                                = f(6) + f(4)\n",
    "                                = f(5) + f(3) + f(3) + f(1)\n",
    "                                = f(4) + f(2) + f(2) + f(0) + f(2) + f(0) + f(0)\n",
    "                                \n",
    "    notice how we computed f(4), f(2) and f(0) multiple times\n",
    "    \n",
    "    analyzing via Bottom-Up:\n",
    "    f(0) = 0\n",
    "    f(1) = 1\n",
    "    f(2) = f(1) + f(1) as 2 < 3\n",
    "    f(3) = f(2) + f(0) = f(1) + f(1) + f(0)\n",
    "    f(4) = f(3) + f(1) = f(2) + f(0) + f(1) = f(1) + f(1) + f(0) + f(1)\n",
    "    \"\"\"\n",
    "    def coinChange(self, coins: List[int], amount: int) -> int:\n",
    "        d = [amount+1 for i in range(amount + 1)] # set to a large number\n",
    "        d[0] = 0\n",
    "        for i in range(1, len(d)):\n",
    "            for c in coins:\n",
    "                if c <= i:\n",
    "                    d[i] = min(d[i], 1 + d[i - c])\n",
    "\n",
    "        return -1 if d[amount] == amount + 1 else d[amount]\n",
    "\n",
    "sol = Solution()\n",
    "sol.coinChange([1,5,10], 11)"
   ]
  },
  {
   "cell_type": "markdown",
   "id": "8d6d949e-cd63-4477-8d8e-f0bac366ba10",
   "metadata": {},
   "source": [
    "### 3. [Climbing Stairs (easy)](https://leetcode.com/problems/climbing-stairs/)\n",
    "\n",
    "You are climbing a staircase. It takes `n` steps to reach the top. Each time you can either climb 1 or 2 steps. In how many distinct ways can you climb to the top?\n",
    "\n",
    "**Example 1:**\n",
    "\n",
    "Input: n = 2 \\\n",
    "Output: 2 \\\n",
    "Explanation: There are two ways to climb to the top.\n",
    "1. 1 step + 1 step\n",
    "2. 2 steps\n",
    "\n",
    "**Example 2:**\n",
    "\n",
    "Input: n = 3 \\\n",
    "Output: 3 \\\n",
    "Explanation: There are three ways to climb to the top.\n",
    "1. 1 step + 1 step + 1 step\n",
    "2. 1 step + 2 steps\n",
    "3. 2 steps + 1 step"
   ]
  },
  {
   "cell_type": "code",
   "execution_count": 6,
   "metadata": {},
   "outputs": [
    {
     "data": {
      "text/plain": [
       "8"
      ]
     },
     "execution_count": 6,
     "metadata": {},
     "output_type": "execute_result"
    }
   ],
   "source": [
    "class Solution:\n",
    "    \"\"\"\n",
    "    by writing out the problem, we can see that it is a recursive relation\n",
    "    e.g. with 5 steps, taking 1-step first results in ways to climb 4 steps and\n",
    "    taking 2-steps first reultsin ways to climb 3 steps\n",
    "    adding them up gives the number of ways\n",
    "    \"\"\"\n",
    "    def climbStairs(self, n: int) -> int:\n",
    "        d = [0 for i in range(n+1)]\n",
    "        d[0] = 1 # 1 way to take no steps\n",
    "        d[1] = 1\n",
    "        for i in range(2, n+1):\n",
    "            d[i] = d[i-1] + d[i-2]\n",
    "        return d[-1]\n",
    "    \n",
    "sol = Solution()\n",
    "sol.climbStairs(5)"
   ]
  },
  {
   "cell_type": "code",
   "execution_count": 8,
   "metadata": {},
   "outputs": [
    {
     "data": {
      "text/plain": [
       "0"
      ]
     },
     "execution_count": 8,
     "metadata": {},
     "output_type": "execute_result"
    }
   ],
   "source": [
    "sum([])"
   ]
  },
  {
   "cell_type": "markdown",
   "metadata": {},
   "source": [
    "### 4. [Partition Equal Subset Sum (medium)](https://leetcode.com/problems/partition-equal-subset-sum/description/)\n",
    "\n",
    "Given an integer array `nums`, return `true` if you can partition the array into two subsets such that the sum of the elements in both subsets is equal or `false` otherwise.\n",
    "\n",
    "**Example 1:**\n",
    "\n",
    "Input: nums = [1,5,11,5] \\\n",
    "Output: true \\\n",
    "Explanation: The array can be partitioned as [1, 5, 5] and [11].\n",
    "\n",
    "**Example 2:**\n",
    "\n",
    "Input: nums = [1,2,3,5] \\\n",
    "Output: false \\\n",
    "Explanation: The array cannot be partitioned into equal sum subsets."
   ]
  },
  {
   "cell_type": "code",
   "execution_count": 10,
   "metadata": {},
   "outputs": [
    {
     "name": "stdout",
     "output_type": "stream",
     "text": [
      "{1, 2, 3, 4, 5, 6, 7, 8, 9, 10, 11, 12, 13, 14, 15, 16, 17, 18, 19, 20}\n"
     ]
    },
    {
     "data": {
      "text/plain": [
       "True"
      ]
     },
     "execution_count": 10,
     "metadata": {},
     "output_type": "execute_result"
    }
   ],
   "source": [
    "class Solution:\n",
    "    \"\"\"\n",
    "    for this problem, it is crucial to note that having two equal subset sums imply that the sum should be even to be possible\n",
    "    as expected, greedy approach would be sub-optimal given [1,2,3,6,8]\n",
    "\n",
    "    since if half of the sum exists imply the other half exists, we just need to check for it\n",
    "\n",
    "    we have the dp = set() to construt the possible sums by DFS\n",
    "    \"\"\"\n",
    "    def canPartition(self, nums: List[int]) -> bool:\n",
    "        if sum(nums) % 2 == 1:\n",
    "            return False\n",
    "        target = sum(nums) / 2\n",
    "        dp = set()\n",
    "        for i in range(len(nums)):\n",
    "            sums = list(dp)\n",
    "            for e in sums:\n",
    "                dp.add(e + nums[i])\n",
    "            dp.add(nums[i])\n",
    "        print(dp)\n",
    "        return target in dp\n",
    "    \n",
    "sol = Solution()\n",
    "sol.canPartition([1,2,3,6,8])"
   ]
  },
  {
   "cell_type": "markdown",
   "metadata": {},
   "source": [
    "### 5. [Unique Paths (medium)](https://leetcode.com/problems/unique-paths/)\n",
    "\n",
    "There is a robot on an `m` x `n` grid. The robot is initially located at the top-left corner (i.e., `grid[0][0]`). The robot tries to move to the bottom-right corner (i.e., `grid[m - 1][n - 1]`). The robot can only move either down or right at any point in time.\n",
    "\n",
    "Given the two integers `m` and `n`, return the number of possible unique paths that the robot can take to reach the bottom-right corner."
   ]
  },
  {
   "cell_type": "code",
   "execution_count": 14,
   "metadata": {},
   "outputs": [
    {
     "data": {
      "text/plain": [
       "28"
      ]
     },
     "execution_count": 14,
     "metadata": {},
     "output_type": "execute_result"
    }
   ],
   "source": [
    "class Solution:\n",
    "    \"\"\"\n",
    "    probably the easiest dynamic programming problem as there is also a straight forward mathematical approach\n",
    "    regardless of grid size, we always have to move m right and n down to reach the destination i.e total moves = m + n\n",
    "    then, the number of paths is a matter of ways to choose at which point we take the right or down i.e. (m + n) C m OR (m + n) C n\n",
    "\n",
    "    from a dynamic programming perspective, each right or down reduces the grid size recursively until the base case of 1x1 (the goal)\n",
    "    being above the goal, there is only 1 way down. being on the left of the goal, there is only one way right.\n",
    "    being on the diagonal of the goal on a 2x2 grid, we have possible paths from right and down.\n",
    "    we can extend this outwards and using memoization we can compute the total number of possible paths from the starting position.\n",
    "    \"\"\"\n",
    "    def uniquePaths(self, m: int, n: int) -> int:\n",
    "\n",
    "        dp = [[0 for j in range(n)] for i in range(m)]\n",
    "        for i in range(m-1, -1, -1):\n",
    "            for j in range(n-1, -1, -1):\n",
    "                if i == (m-1) and j == (n-1):\n",
    "                    dp[m-1][n-1] = 1\n",
    "                elif i == (m-1):\n",
    "                    dp[i][j] += dp[i][j+1]\n",
    "                elif j == (n-1):\n",
    "                    dp[i][j] += dp[i+1][j]\n",
    "                else:\n",
    "                    dp[i][j] += (dp[i][j+1] + dp[i+1][j])\n",
    "        return dp[0][0]\n",
    "\n",
    "sol = Solution()\n",
    "sol.uniquePaths(7,3)"
   ]
  },
  {
   "cell_type": "markdown",
   "id": "ca9e2052",
   "metadata": {},
   "source": [
    "### 6. [House Robber (medium)](https://leetcode.com/problems/house-robber/description/)\n",
    "\n",
    "You are a professional robber planning to rob houses along a street. Each house has a certain amount of money stashed, the only constraint stopping you from robbing each of them is that adjacent houses have security systems connected and it will automatically contact the police if two adjacent houses were broken into on the same night.\n",
    "\n",
    "Given an integer array `nums` representing the amount of money of each house, return the maximum amount of money you can rob tonight without alerting the police."
   ]
  },
  {
   "cell_type": "code",
   "execution_count": null,
   "id": "fcd5e50b",
   "metadata": {},
   "outputs": [],
   "source": [
    "from typing import List\n",
    "\n",
    "class Solution:\n",
    "    def rob(self, nums: List[int]) -> int:\n",
    "\n",
    "       # at each index, we either rob or not rob\n",
    "       # if rob, we must skip the next\n",
    "       # if not rob, we can rob or skip the next\n",
    "       \n",
    "       # recursive approach\n",
    "    #    n = len(nums)\n",
    "    #    dp = [0] * n\n",
    "    #    def f(i, nums, dp):\n",
    "    #         if i == 0: return nums[i]\n",
    "    #         if i < 0: return 0\n",
    "    #         if dp[i] != 0: return dp[i]\n",
    "    #         dp[i] = max(\n",
    "    #             nums[i] + f(i-2, nums, dp), # rob\n",
    "    #             0 + f(i-1, nums, dp), # not rob\n",
    "    #         )\n",
    "    #         return dp[i]\n",
    "\n",
    "    #    return f(n-1, nums, dp)\n",
    "\n",
    "        # # tabulation approach\n",
    "        # n = len(nums)\n",
    "        # dp = [0] * n\n",
    "        # dp[0] = nums[0]\n",
    "        # for i in range(1, len(nums)):\n",
    "        #     a = nums[i] + (dp[i-2] if i > 1 else 0)\n",
    "        #     b = 0 + dp[i-1]\n",
    "        #     dp[i] = max(a, b)\n",
    "\n",
    "        # return dp[-1]\n",
    "\n",
    "        # space optimized\n",
    "        n = len(nums)\n",
    "        dp = [0, 0]\n",
    "        dp[1] = nums[0]\n",
    "        for i in range(1, len(nums)):\n",
    "            a = nums[i] + (dp[0] if i > 1 else 0)\n",
    "            b = 0 + dp[1]\n",
    "            dp[0] = dp[1]\n",
    "            dp[1] = max(a, b)\n",
    "        return dp[1]"
   ]
  },
  {
   "cell_type": "markdown",
   "id": "cbe70143",
   "metadata": {},
   "source": [
    "### 7. [Maximum Product Subarray (medium)](https://leetcode.com/problems/maximum-product-subarray/description/)\n",
    "\n",
    "Given an integer array nums, find a subarray that has the largest product, and return the product."
   ]
  },
  {
   "cell_type": "code",
   "execution_count": null,
   "id": "046211f6",
   "metadata": {},
   "outputs": [],
   "source": [
    "class Solution:\n",
    "    def maxProduct(self, nums: List[int]) -> int:\n",
    "        mx_prod = -float(\"inf\")\n",
    "\n",
    "        # brute force for subarrays - generate all possible results\n",
    "        # for i in range(0, len(nums)):\n",
    "        #     prod = 1\n",
    "        #     for j in range(i, len(nums)):\n",
    "        #         prod *= nums[j]\n",
    "        #         mx_prod = max(mx_prod, prod)\n",
    "\n",
    "        # return mx_prod\n",
    "\n",
    "        # optimize by \"short circuiting\" cases\n",
    "        # 1. all positives, multiply all except 0\n",
    "        # 2. even num of negatives, multiply all except 0\n",
    "        # 3. odd num of negatives, the max product subarray should be separated by some negative number\n",
    "        # 1 and 2 are special case of 3, no separation\n",
    "        mx_prod = -float(\"inf\")\n",
    "        # num_negs = sum([x < 0 for x in nums])\n",
    "        # if num_negs % 2 == 0:\n",
    "        #     prod = 1\n",
    "        #     for i in range(len(nums)):\n",
    "        #         if prod == 0:\n",
    "        #             prod = 1\n",
    "        #         prod *= nums[i]\n",
    "        #         mx_prod = max(mx_prod, prod)\n",
    "        # else:\n",
    "        left = 1\n",
    "        right = 1\n",
    "        for i in range(len(nums)):\n",
    "            if left == 0: left = 1\n",
    "            if right == 0: right = 1\n",
    "            left *= nums[i]\n",
    "            right *= nums[len(nums)-1-i]\n",
    "            mx_prod = max(mx_prod, max(left, right))\n",
    "\n",
    "        return mx_prod"
   ]
  },
  {
   "cell_type": "markdown",
   "id": "85c4a898",
   "metadata": {},
   "source": [
    "### 8. [Longest Increasing Subsequence (medium)](https://leetcode.com/problems/longest-increasing-subsequence/)\n",
    "\n",
    "Given an integer array nums, return the length of the longest strictly increasing subsequence.\n",
    "\n",
    "**Example 1:**\n",
    "Input: nums = [10,9,2,5,3,7,101,18]\\\n",
    "Output: 4\\\n",
    "Explanation: The longest increasing subsequence is [2,3,7,101], therefore the length is 4.\n",
    "\n",
    "**Example 2:**\\\n",
    "Input: nums = [0,1,0,3,2,3]\\\n",
    "Output: 4\n",
    "\n",
    "**Example 3:**\\\n",
    "Input: nums = [7,7,7,7,7,7,7]\\\n",
    "Output: 1"
   ]
  },
  {
   "cell_type": "code",
   "execution_count": 11,
   "id": "f242942c",
   "metadata": {},
   "outputs": [],
   "source": [
    "from typing import List\n",
    "class Solution:\n",
    "    def lengthOfLIS(self, nums: List[int]) -> int:\n",
    "\n",
    "        # longest subarray is trivial but\n",
    "        # since subsequence is discontinuous, one way to think about this is\n",
    "        # the longest subsequence currently is one which the current element is \n",
    "        # larger than that of the previous longest subsequence\n",
    "        # dp pattern\n",
    "        n = len(nums)\n",
    "        dp = [1] * n # length of single number is 1\n",
    "        for i in range(n):\n",
    "            for j in range(i):\n",
    "                if nums[i] > nums[j]:\n",
    "                    dp[i] = max(dp[i], dp[j] + 1) # we take the maximum LIS found after adding the current element to it\n",
    "        return max(dp)     "
   ]
  },
  {
   "cell_type": "code",
   "execution_count": 12,
   "id": "1a770529",
   "metadata": {},
   "outputs": [
    {
     "data": {
      "text/plain": [
       "4"
      ]
     },
     "execution_count": 12,
     "metadata": {},
     "output_type": "execute_result"
    }
   ],
   "source": [
    "sol = Solution()\n",
    "inp =  [10,9,2,5,3,7,101,18]\n",
    "sol.lengthOfLIS(inp)"
   ]
  },
  {
   "cell_type": "markdown",
   "id": "c4b6a064",
   "metadata": {},
   "source": [
    "### 9. [Jump Game (medium)](https://leetcode.com/problems/jump-game/)\n",
    "\n",
    "You are given an integer array `nums`. You are initially positioned at the array's first index and each element in the array represents your maximum jump length at that position.\n",
    "\n",
    "Return `true` if you can reach the last index, or `false` otherwise.\n",
    "\n",
    "**Example 1:**\\\n",
    "Input: nums = [2,3,1,1,4] \\\n",
    "Output: true \\\n",
    "Explanation: Jump 1 step from index 0 to 1, then 3 steps to the last index. \n",
    "\n",
    "**Example 2:**\\\n",
    "Input: nums = [3,2,1,0,4]\\\n",
    "Output: false\\\n",
    "Explanation: You will always arrive at index 3 no matter what. Its maximum jump length is 0, which makes it impossible to reach the last index."
   ]
  },
  {
   "cell_type": "code",
   "execution_count": 8,
   "id": "cb3d2de3",
   "metadata": {},
   "outputs": [],
   "source": [
    "class Solution:\n",
    "    def canJump(self, nums: List[int]) -> bool:\n",
    "        # want to find if there exist a path from start to dest - DFS problem\n",
    "        # using DFS, we can also finding how many ways are there to the problem - time constraint\n",
    "        # n = len(nums)\n",
    "        # dp = [0]*n\n",
    "        # dp[0] = 1\n",
    "        # def f(i):\n",
    "        #     if i < n:\n",
    "        #         for j in range(nums[i]):\n",
    "        #             if (i+j+1) <= (n-1):\n",
    "        #                 dp[i+j+1] += 1\n",
    "        #                 f(i+j+1) \n",
    "        # f(0)\n",
    "        # return bool(dp[-1])\n",
    "\n",
    "        # time complexity reduced to ~O(n^2)\n",
    "        # bottom-up approach\n",
    "        # n = len(nums)\n",
    "        # dp = [0] * n\n",
    "        # dp[0] = 1\n",
    "        # for i in range(n-1):\n",
    "        #     if dp[-1] > 0: return True\n",
    "        #     if dp[i] > 0: # valid only if we are able to reach this before\n",
    "        #         for j in range(nums[i]):\n",
    "        #             if i+j+1 < n:\n",
    "        #                 dp[i+j+1] += 1\n",
    "        # return dp[-1] > 0\n",
    "\n",
    "        # optimal logic - time complexity reduced to O(n) and space complexity is O(1)\n",
    "        # non-dynamic programming solution however\n",
    "        # if being at n-2 allows you to reach n-1,\n",
    "        # then it must also be true that any jump length of at least k to at least reach n-2\n",
    "        # would also allow you to reach n-1\n",
    "        k = len(nums) - 1\n",
    "        for i in range(len(nums)-1, -1, -1):\n",
    "            if i + nums[i] >= k:\n",
    "                k = i\n",
    "        return k <= 0"
   ]
  },
  {
   "cell_type": "code",
   "execution_count": 9,
   "id": "cf42ef43",
   "metadata": {},
   "outputs": [],
   "source": [
    "inp = [8,2,4,4,4,9,5,2,5,8,8,0,8,6,9,1,1,6,3,5,1,2,6,6,0,4,8,6,0,3,2,8,7,6,5,1,7,0,3,4,8,3,5,9,0,4,0,1,0,5,9,2,0,7,0,2,1,0,8,2,5,1,2,3,9,7,4,7,0,0,1,8,5,6,7,5,1,9,9,3,5,0,7,5]"
   ]
  },
  {
   "cell_type": "code",
   "execution_count": 10,
   "id": "075abdad",
   "metadata": {},
   "outputs": [
    {
     "data": {
      "text/plain": [
       "True"
      ]
     },
     "execution_count": 10,
     "metadata": {},
     "output_type": "execute_result"
    }
   ],
   "source": [
    "sol = Solution()\n",
    "sol.canJump(inp)"
   ]
  },
  {
   "cell_type": "markdown",
   "id": "4434ec8e",
   "metadata": {},
   "source": [
    "### 10. [Maximal Square (medium)](https://leetcode.com/problems/maximal-square/description/)\n",
    "\n",
    "Given an `m` x `n` binary matrix filled with 0's and 1's, find the largest square containing only 1's and return its area."
   ]
  },
  {
   "cell_type": "code",
   "execution_count": 130,
   "id": "f37f11b8",
   "metadata": {},
   "outputs": [],
   "source": [
    "class Solution:\n",
    "    def maximalSquare(self, matrix: List[List[str]]) -> int:\n",
    "\n",
    "        # intuition 1: we can first sum every row and col to find out max possible size (property of square)?\n",
    "        # counter case: [\n",
    "        #   [0, 0, 0],\n",
    "        #   [1, 0, 1],\n",
    "        #   [1, 0, 1],\n",
    "        # ] \n",
    "        # (2,2) but does not exist\n",
    "        # intuition 2: given (m, n), each time we encounter a 0 for size m or n, we reduce it to (m-1) and repeat search\n",
    "\n",
    "        # intuition 3: the largest possible square is k = min(m, n)\n",
    "        # implement image convolution of kernel size k and stride 1\n",
    "        # sum of a ones matrix equivalent to area\n",
    "\n",
    "        # brute force by intuition 3\n",
    "        # m = len(matrix)\n",
    "        # n = len(matrix[0])\n",
    "        # k = min(m, n)\n",
    "        # matrix = [list(map(int, x)) for x in matrix]\n",
    "        # mx_area = 0\n",
    "        # for size in range(k, 0, -1):\n",
    "        #     # print(\"Kernal Size:\", size)\n",
    "        #     for i in range(m-size+1):\n",
    "        #         for j in range(n-size+1):\n",
    "        #             # print(\"j\", j)\n",
    "        #             # compute filter sum (also area)\n",
    "        #             area = sum(\n",
    "        #                 [\n",
    "        #                     sum(x[j:j+size]) for x in matrix[i:i+size]\n",
    "        #                 ]\n",
    "        #             )\n",
    "        #             # print(matrix[i:i+size][0][j:j+size])\n",
    "        #             # print(size*size)\n",
    "        #             # print(area)\n",
    "        #             if area == size*size:\n",
    "        #                 mx_area = max(mx_area,area)\n",
    "        # return mx_area\n",
    "\n",
    "        # optimal approach\n",
    "        m = len(matrix)\n",
    "        n = len(matrix[0])\n",
    "        dp = [[0 for i in range(n)] for j in range(m)]\n",
    "        dp[0] = list(map(int, matrix[0][:]))\n",
    "        # initialize dp matrix -- OK\n",
    "        for i in range(m):\n",
    "            dp[i][0] = int(matrix[i][0])\n",
    "        # print(m)\n",
    "        # print(n)\n",
    "        for i in range(1, m):\n",
    "            for j in range(1, n):\n",
    "                if matrix[i][j] == \"0\":\n",
    "                    dp[i][j] = int(matrix[i][j])\n",
    "                else:\n",
    "                    dp[i][j] = 1 + min(\n",
    "                        dp[i-1][j-1],\n",
    "                        dp[i-1][j],\n",
    "                        dp[i][j-1],\n",
    "                    )\n",
    "                    \n",
    "        return max(max(k) for k in dp)**2\n"
   ]
  },
  {
   "cell_type": "code",
   "execution_count": 131,
   "id": "a9a27439",
   "metadata": {},
   "outputs": [
    {
     "data": {
      "text/plain": [
       "9"
      ]
     },
     "execution_count": 131,
     "metadata": {},
     "output_type": "execute_result"
    }
   ],
   "source": [
    "sol = Solution()\n",
    "inp = [[\"0\",\"0\",\"0\",\"1\"],[\"1\",\"1\",\"0\",\"1\"],[\"1\",\"1\",\"1\",\"1\"],[\"0\",\"1\",\"1\",\"1\"],[\"0\",\"1\",\"1\",\"1\"]]\n",
    "# inp = [[\"1\",\"1\"],[\"1\",\"1\"]]\n",
    "sol.maximalSquare(inp)"
   ]
  },
  {
   "cell_type": "markdown",
   "id": "b1bc5b94",
   "metadata": {},
   "source": [
    "### 11. [Decode Ways (medium)](https://leetcode.com/problems/decode-ways/description/)"
   ]
  },
  {
   "cell_type": "code",
   "execution_count": 146,
   "id": "58b4a2b6",
   "metadata": {},
   "outputs": [],
   "source": [
    "class Solution:\n",
    "    def numDecodings(self, s: str) -> int:\n",
    "\n",
    "        # observations:\n",
    "        # 0 must always be handled as they are accompanied by another digit before\n",
    "        # a number can be decoded in multiple ways if it starts with 1 or 2 and lesser than 27\n",
    "\n",
    "        # intuitive brute force:\n",
    "        # we forward iterate, if encounter 0, we decode the previous char with 0 instead\n",
    "        # if encounter 1 or 2, we have a branch of possiblities\n",
    "        # CASES:\n",
    "        # -- current digit 0, is first digit --- invalid\n",
    "        # -- current digit 0, previous digit 0 -- invalid\n",
    "        # -- current digit 0, previous digit > 2 --- invalid\n",
    "        # -- current digit 0, previous digit <= 2 --- valid and no split\n",
    "        # -- current digit > 6 --- valid and no split\n",
    "        # -- current digit < 7, previous digit 1 or 2 --- valid split\n",
    "\n",
    "\n",
    "        # n = len(s)\n",
    "        # dp = [0] * n\n",
    "        # if s[0] == \"0\": return 0 # does not consider consecutive 0\n",
    "        # dp[0] = 1\n",
    "        # ot = set([\"1\", \"2\"])\n",
    "        # g6 = set([\"7\", \"8\", \"9\"])\n",
    "        # for i in range(1, n):\n",
    "        #     print(dp)\n",
    "        #     if s[i] == \"0\" and (s[i-1] == \"0\" or s[i-1] not in ot): return 0\n",
    "        #     elif s[i] == \"0\" and s[i-1] <= \"2\": \n",
    "        #         dp[i-1] = dp[i-1] - 1\n",
    "        #         dp[i] = dp[i-1]\n",
    "\n",
    "        #     elif s[i] > \"6\": dp[i] = dp[i-1]\n",
    "        #     elif s[i] <= \"6\" and s[i-1] in ot: dp[i] = dp[i-1] + 1\n",
    "        #     else:\n",
    "        #         dp[i] = dp[i-1]\n",
    "        # print(dp)\n",
    "        # return max(max(dp), min(dp)+1)\n",
    "    \n",
    "\n",
    "        dp = {len(s): 1}\n",
    "        for i in range(len(s)-1, -1, -1):\n",
    "            print(s[i])\n",
    "            if s[i] == \"0\":\n",
    "                dp[i] = 0\n",
    "            else:\n",
    "                dp[i] = dp[i+1]\n",
    "            if (\n",
    "                    i + 1 < len(s) and \n",
    "                    (\n",
    "                        s[i] == \"1\" or \n",
    "                        (\n",
    "                            s[i] == \"2\" and\n",
    "                            s[i+1] in \"0123456\"\n",
    "                        )\n",
    "                    )\n",
    "            ):\n",
    "                dp[i] += dp[i+2]\n",
    "            print(dp)\n",
    "        return dp[0]"
   ]
  },
  {
   "cell_type": "code",
   "execution_count": 147,
   "id": "6f075d30",
   "metadata": {},
   "outputs": [
    {
     "name": "stdout",
     "output_type": "stream",
     "text": [
      "3\n",
      "{4: 1, 3: 1}\n",
      "2\n",
      "{4: 1, 3: 1, 2: 2}\n",
      "1\n",
      "{4: 1, 3: 1, 2: 2, 1: 3}\n",
      "1\n",
      "{4: 1, 3: 1, 2: 2, 1: 3, 0: 5}\n"
     ]
    },
    {
     "data": {
      "text/plain": [
       "5"
      ]
     },
     "execution_count": 147,
     "metadata": {},
     "output_type": "execute_result"
    }
   ],
   "source": [
    "sol = Solution()\n",
    "inp = \"1123\"\n",
    "# inp = \"10\"\n",
    "sol.numDecodings(inp)"
   ]
  },
  {
   "cell_type": "markdown",
   "id": "df847879",
   "metadata": {},
   "source": [
    "### 12. [Combination Sum IV (medium)](https://leetcode.com/problems/combination-sum-iv/)\n",
    "\n",
    "Given an array of distinct integers `nums` and a target integer `target`, return the number of possible combinations that add up to `target`."
   ]
  },
  {
   "cell_type": "code",
   "execution_count": 154,
   "id": "7329d419",
   "metadata": {},
   "outputs": [],
   "source": [
    "class Solution:\n",
    "    def combinationSum4(self, nums: List[int], target: int) -> int:\n",
    "\n",
    "        # from the recursive tree drawn we can see:\n",
    "        # f(4) = f(4-1) + f(4-2) + f(4-1)\n",
    "        #      = f(3) + f(2) + f(1)\n",
    "        #      = ( f(0) + f(1) + f(2) ) + \n",
    "        #        ( f(0) + f(1) ) +\n",
    "        #        ( f(0) )\n",
    "        #      = ( f(0) + f(0) + f(0) + f(1) ) +\n",
    "        #        ( f(0) + f(0) ) +\n",
    "        #        ( f(0) )\n",
    "        #      = 7 * f(0)\n",
    "        # like the recursion tree, the number of terminating leaf (=0) is the result\n",
    "        \n",
    "        # solution: brute force recursive\n",
    "        # def f(n, nums):\n",
    "        #     if n == 0:\n",
    "        #         return 1\n",
    "        #     else:\n",
    "        #         return sum([f(n-k, nums) for k in nums if (n-k) >= 0])\n",
    "        # return f(target, nums)\n",
    "\n",
    "        # solution: true dp\n",
    "        dp = [0] * (target + 1)\n",
    "        dp[0] = 1\n",
    "        for i in range(1, len(dp)):\n",
    "            for k in nums:\n",
    "                if i >= k:\n",
    "                    dp[i] += dp[i-k]\n",
    "        return dp[-1]"
   ]
  },
  {
   "cell_type": "code",
   "execution_count": 155,
   "id": "be2affe8",
   "metadata": {},
   "outputs": [
    {
     "data": {
      "text/plain": [
       "7"
      ]
     },
     "execution_count": 155,
     "metadata": {},
     "output_type": "execute_result"
    }
   ],
   "source": [
    "sol = Solution()\n",
    "inp = [1,2,3]\n",
    "sol.combinationSum4(inp, 4)"
   ]
  },
  {
   "cell_type": "code",
   "execution_count": 160,
   "id": "025833df",
   "metadata": {},
   "outputs": [
    {
     "data": {
      "text/plain": [
       "True"
      ]
     },
     "execution_count": 160,
     "metadata": {},
     "output_type": "execute_result"
    }
   ],
   "source": [
    "bool([1])"
   ]
  },
  {
   "cell_type": "code",
   "execution_count": 167,
   "id": "194bc034",
   "metadata": {},
   "outputs": [
    {
     "data": {
      "text/plain": [
       "False"
      ]
     },
     "execution_count": 167,
     "metadata": {},
     "output_type": "execute_result"
    }
   ],
   "source": [
    "stack = ['s']\n",
    "stack == []"
   ]
  },
  {
   "cell_type": "code",
   "execution_count": 186,
   "id": "cba70c25",
   "metadata": {},
   "outputs": [],
   "source": [
    "x = [[[-1]*3]* 2] * 4"
   ]
  },
  {
   "cell_type": "code",
   "execution_count": 187,
   "id": "7a41a62b",
   "metadata": {},
   "outputs": [
    {
     "data": {
      "text/plain": [
       "2"
      ]
     },
     "execution_count": 187,
     "metadata": {},
     "output_type": "execute_result"
    }
   ],
   "source": [
    "len(x[0])"
   ]
  },
  {
   "cell_type": "code",
   "execution_count": null,
   "id": "6c29e346",
   "metadata": {},
   "outputs": [],
   "source": []
  }
 ],
 "metadata": {
  "kernelspec": {
   "display_name": "Python 3 (ipykernel)",
   "language": "python",
   "name": "python3"
  },
  "language_info": {
   "codemirror_mode": {
    "name": "ipython",
    "version": 3
   },
   "file_extension": ".py",
   "mimetype": "text/x-python",
   "name": "python",
   "nbconvert_exporter": "python",
   "pygments_lexer": "ipython3",
   "version": "3.9.13"
  }
 },
 "nbformat": 4,
 "nbformat_minor": 5
}
