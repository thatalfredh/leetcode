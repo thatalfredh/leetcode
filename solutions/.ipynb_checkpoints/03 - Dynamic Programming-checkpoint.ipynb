{
 "cells": [
  {
   "cell_type": "markdown",
   "id": "57a12fb3-f2c8-4164-8c11-d12df2995921",
   "metadata": {},
   "source": [
    "## Dynamic Programming\n",
    "---\n",
    "\n",
    "||Problem|Difficulty|Technique|Explanation|Link| \n",
    "|:---|:---:|:---:|:---:|:---|:---|\n",
    "|1 | Maximum Subarray | medium | Kadane's algorithm / Left Sliding Window | https://www.youtube.com/watch?v=5WZl3MMT0Eg&ab_channel=NeetCode | https://leetcode.com/problems/maximum-subarray/|\n",
    "|2 | Coin Change | medium | | | https://leetcode.com/problems/coin-change|\n",
    "|3|Climbing Stairs|easy|||https://leetcode.com/problems/climbing-stairs|\n",
    "|4|Partition Equal Subset Sum|medium|||https://leetcode.com/problems/partition-equal-subset-sum/|\n",
    "|5|||||\n",
    "|6|||||\n",
    "|7|||||\n",
    "|8|||||\n",
    "|9|||||\n",
    "|10|||||\n",
    "|11|||||\n",
    "|12|||||\n",
    "|13|||||\n",
    "|14|||||\n",
    "|15|||||\n",
    "|16|||||\n",
    "|17|||||\n",
    "|18|||||\n",
    "|19|||||\n",
    "___"
   ]
  },
  {
   "cell_type": "code",
   "execution_count": 2,
   "id": "62dd3ceb-0aaf-489f-b30c-6b8a2e121178",
   "metadata": {},
   "outputs": [],
   "source": [
    "from typing import List"
   ]
  },
  {
   "cell_type": "markdown",
   "id": "a2d73efd-11d1-40e5-a9d1-2da5a23cdf97",
   "metadata": {},
   "source": [
    "### 1. Maximum Subarray\n",
    "\n",
    "Given an integer array `nums`, find the subarray with the largest sum, and return its sum.\n",
    "\n",
    "**Example 1:**\n",
    "\n",
    "Input: nums = [-2,1,-3,4,-1,2,1,-5,4]\\\n",
    "Output: 6\\\n",
    "Explanation: The subarray [4,-1,2,1] has the largest sum 6.\n",
    "\n",
    "**Example 2:**\n",
    "\n",
    "Input: nums = [1]\\\n",
    "Output: 1\\\n",
    "Explanation: The subarray [1] has the largest sum 1.\n",
    "\n",
    "**Example 3:**\n",
    "\n",
    "Input: nums = [5,4,-1,7,8]\\\n",
    "Output: 23\\\n",
    "Explanation: The subarray [5,4,-1,7,8] has the largest sum 23."
   ]
  },
  {
   "cell_type": "code",
   "execution_count": 5,
   "id": "8a013a91-b58a-4b1a-a489-6555117ce6ea",
   "metadata": {},
   "outputs": [
    {
     "data": {
      "text/plain": [
       "6"
      ]
     },
     "execution_count": 5,
     "metadata": {},
     "output_type": "execute_result"
    }
   ],
   "source": [
    "class Solution:\n",
    "    \"\"\"\n",
    "    the key thing here that makes the algorithm works is the fact that we would not want to consider\n",
    "    negative sum prior to our maximum subarray\n",
    "    \n",
    "    e.g. [x1, x2, x3, x4]\n",
    "    \n",
    "    if x1 + x2 <= 0:\n",
    "        x1 + x2 + x3 + x4 <= x3 + x4 + x5\n",
    "    \"\"\"\n",
    "    def maxSubArray(self, nums: List[int]) -> int:\n",
    "        max_sum = -float('inf')\n",
    "        cur_sum = 0\n",
    "        for i in range(len(nums)):\n",
    "            if cur_sum < 0:\n",
    "                cur_sum = 0\n",
    "            cur_sum += nums[i]\n",
    "            max_sum = max(max_sum, cur_sum)\n",
    "        return max_sum\n",
    "\n",
    "sol = Solution()\n",
    "sol.maxSubArray(nums=[-2,1,-3,4,-1,2,1,-5,4])"
   ]
  },
  {
   "cell_type": "markdown",
   "id": "e8a91c8b-f34f-44e0-bac4-a62bd741ca14",
   "metadata": {},
   "source": [
    "### 2. Coin Change\n",
    "\n",
    "You are given an integer array `coins` representing coins of different denominations and an integer `amount` representing a total amount of money. Return the fewest number of coins that you need to make up that `amount`. If that amount of money cannot be made up by any combination of the coins, return `-1`.\n",
    "\n",
    "You may assume that you have an infinite number of each kind of coin.\n",
    "\n",
    "**Example 1:**\n",
    "\n",
    "Input: coins = [1,2,5], amount = 11\\\n",
    "Output: 3\\\n",
    "Explanation: 11 = 5 + 5 + 1\n",
    "\n",
    "**Example 2:**\n",
    "\n",
    "Input: coins = [2], amount = 3\\\n",
    "Output: -1\n",
    "\n",
    "**Example 3:**\n",
    "\n",
    "Input: coins = [1], amount = 0\\\n",
    "Output: 0"
   ]
  },
  {
   "cell_type": "code",
   "execution_count": null,
   "id": "a46a8e1c-865b-4887-86c4-8563ca495456",
   "metadata": {},
   "outputs": [],
   "source": [
    "class Solution:\n",
    "    \"\"\"\n",
    "    if we analyze this problem Top-Down via DFS backtracking,\n",
    "    we would notice that there are duplicated computations where selecting c1 or c2 now\n",
    "    will produce the same subproblems just at different point in time\n",
    "    \n",
    "    e.g. [1,3], n = 7 then f(7) = f(7-1) + f(7-3) \n",
    "                                = f(6) + f(4)\n",
    "                                = f(5) + f(3) + f(3) + f(1)\n",
    "                                = f(4) + f(2) + f(2) + f(0) + f(2) + f(0) + f(0)\n",
    "                                \n",
    "    notice how we computed f(4), f(2) and f(0) multiple times\n",
    "    \n",
    "    for Bottom-Up\n",
    "    f(0) = 0\n",
    "    f(1) = 1\n",
    "    f(2) = f(1) + f(1) as 2 < 3\n",
    "    f(3) = f(2) + f(0) = f(1) + f(1) + f(0)\n",
    "    f(4) = f(3) + f(1) = f(2) + f(0) + f(1) = f(1) + f(1) + f(0) + f(1)\n",
    "    \"\"\"\n",
    "    def coinChange(self, coins: List[int], amount: int) -> int:\n",
    "        \n",
    "        \n",
    "        "
   ]
  }
 ],
 "metadata": {
  "kernelspec": {
   "display_name": "Python 3 (ipykernel)",
   "language": "python",
   "name": "python3"
  },
  "language_info": {
   "codemirror_mode": {
    "name": "ipython",
    "version": 3
   },
   "file_extension": ".py",
   "mimetype": "text/x-python",
   "name": "python",
   "nbconvert_exporter": "python",
   "pygments_lexer": "ipython3",
   "version": "3.9.12"
  }
 },
 "nbformat": 4,
 "nbformat_minor": 5
}
