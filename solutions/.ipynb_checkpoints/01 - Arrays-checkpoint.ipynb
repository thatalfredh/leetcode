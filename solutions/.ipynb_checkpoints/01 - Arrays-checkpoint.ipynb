{
 "cells": [
  {
   "cell_type": "markdown",
   "id": "826bb089-20c0-4351-acce-7b0f67c70242",
   "metadata": {},
   "source": [
    "# Grind 169\n",
    "\n",
    "A collection of my solutions for 169 LeetCode questions across various topics following [techinterviewhandbook](https://www.techinterviewhandbook.org/grind75?order=topics&hours=12&weeks=12&grouping=topics)'s 12 weeks schedule.\n",
    "\n",
    "---"
   ]
  },
  {
   "cell_type": "markdown",
   "id": "2cf5cc8a-fd15-4f6d-a7e7-76611231cf47",
   "metadata": {},
   "source": [
    "## Array"
   ]
  },
  {
   "cell_type": "markdown",
   "id": "153c1a68-3ded-4dfd-afe9-f48bae580b1c",
   "metadata": {
    "tags": []
   },
   "source": [
    "### [1. Two-Sums (easy)](https://leetcode.com/problems/two-sum)\n",
    "\n",
    "Given an array of integers `nums` and an integer `target`, return indices of the two numbers such that they add up to `target`.\n",
    "\n",
    "<i>You may assume that each input would have exactly one solution, and you may not use the same element twice.<br>\n",
    "    You can return the answer in any order.</i>"
   ]
  },
  {
   "cell_type": "markdown",
   "id": "58ea4615-e5f9-465e-8838-eb5a96980791",
   "metadata": {},
   "source": [
    "<b>Example 1:</b><br>\n",
    "Input: nums = [2,7,11,15], target = 9<br>\n",
    "Output: [0,1]<br>\n",
    "Explanation: Because nums[0] + nums[1] == 9, we return [0, 1].\n",
    "\n",
    "<b>Example 2:</b><br>\n",
    "Input: nums = [3,2,4], target = 6<br>\n",
    "Output: [1,2]\n",
    "\n",
    "<b>Example 3:</b><br>\n",
    "Input: nums = [3,3], target = 6<br>\n",
    "Output: [0,1]"
   ]
  },
  {
   "cell_type": "code",
   "execution_count": 1,
   "id": "c0d7f01f-76b6-4f8b-bb2b-bfc0874df2d8",
   "metadata": {},
   "outputs": [],
   "source": [
    "# Beats: Runtime 47.17%, Memory 49.3%\n",
    "class Solution(object):\n",
    "    def twoSum(self, nums, target):\n",
    "        \"\"\"\n",
    "        :type nums: List[int]\n",
    "        :type target: int\n",
    "        :rtype: List[int]\n",
    "        \"\"\"\n",
    "        seen = {}\n",
    "        \n",
    "        for i in range(len(nums)):\n",
    "            r = target - nums[i]\n",
    "            if r in seen.keys():\n",
    "                return [seen[r], i]\n",
    "            seen[nums[i]] = i"
   ]
  },
  {
   "cell_type": "code",
   "execution_count": 3,
   "id": "ced22fc2-2f8d-4599-a574-653a1f3ae737",
   "metadata": {},
   "outputs": [],
   "source": [
    "sol = Solution()"
   ]
  },
  {
   "cell_type": "code",
   "execution_count": 4,
   "id": "367a821f-e8db-461a-b312-c1bad3f4ea7a",
   "metadata": {},
   "outputs": [
    {
     "data": {
      "text/plain": [
       "[0, 1]"
      ]
     },
     "execution_count": 4,
     "metadata": {},
     "output_type": "execute_result"
    }
   ],
   "source": [
    "sol.twoSum([2,7,11,15], 9)"
   ]
  },
  {
   "cell_type": "markdown",
   "id": "055b4fcb-a4af-4833-a225-09e3d434dd6b",
   "metadata": {},
   "source": [
    "### [2. Best Time to Buy and Sell Stocks (easy)](https://leetcode.com/problems/best-time-to-buy-and-sell-stock/)\n",
    "\n",
    "You are given an array `prices` where `prices[i]` is the price of a given stock on the `ith` day.\n",
    "\n",
    "You want to maximize your profit by choosing a <b>single day</b> to buy one stock and choosing a <b>different day</b> in the future to sell that stock.<br>\n",
    "<i>Return the maximum profit you can achieve from this transaction. If you cannot achieve any profit, return `0`.</i>\n",
    "\n",
    "<b>Example 1:</b><br>\n",
    "Input: prices = [7,1,5,3,6,4]<br>\n",
    "Output: 5<br>\n",
    "Explanation: Buy on day 2 (price = 1) and sell on day 5 (price = 6), profit = 6-1 = 5.<br>\n",
    "Note that buying on day 2 and selling on day 1 is not allowed because you must buy before you sell.\n",
    "\n",
    "<b>Example 2:</b><br>\n",
    "Input: prices = [7,6,4,3,1]<br>\n",
    "Output: 0<br>\n",
    "Explanation: In this case, no transactions are done and the max profit = 0."
   ]
  },
  {
   "cell_type": "code",
   "execution_count": 5,
   "id": "d622e620-8658-43a5-a0f7-f3e351ee3801",
   "metadata": {},
   "outputs": [],
   "source": [
    "# Beats: Runtime 94.86%, Memory 15.76%\n",
    "class Solution(object):\n",
    "    def maxProfit(self, prices):\n",
    "        \"\"\"\n",
    "        :type prices: List[int]\n",
    "        :rtype: int\n",
    "        \"\"\"\n",
    "        # max price is obtained by taking difference between largest and smallest value\n",
    "        min_price, max_profit = prices[0], 0\n",
    "        \n",
    "        for i in range(1, len(prices)):\n",
    "            if prices[i] < min_price:\n",
    "                min_price = prices[i]\n",
    "            if prices[i] - min_price > max_profit:\n",
    "                max_profit = prices[i] - min_price\n",
    "                \n",
    "        return max_profit"
   ]
  },
  {
   "cell_type": "code",
   "execution_count": 6,
   "id": "06e0e7d7-d24c-4819-9c95-3162e21f2554",
   "metadata": {},
   "outputs": [],
   "source": [
    "sol = Solution()"
   ]
  },
  {
   "cell_type": "code",
   "execution_count": 7,
   "id": "63b441c7-f0a6-44fb-81de-32c76b75f0e2",
   "metadata": {},
   "outputs": [
    {
     "data": {
      "text/plain": [
       "5"
      ]
     },
     "execution_count": 7,
     "metadata": {},
     "output_type": "execute_result"
    }
   ],
   "source": [
    "sol.maxProfit([7,1,5,3,6,4])"
   ]
  },
  {
   "cell_type": "markdown",
   "id": "3cd669b7-c398-4f22-a947-d52e3113e73f",
   "metadata": {},
   "source": [
    "### [3. Insert Interval (medium)](https://leetcode.com/problems/insert-interval/)\n",
    "\n",
    "You are given an array of non-overlapping intervals `intervals` where `intervals[i] = [starti, endi]` represent the start and the end of the `ith` interval and `intervals` is sorted in ascending order by `starti`. You are also given an interval `newInterval = [start, end]` that represents the start and end of another interval.\n",
    "\n",
    "Insert `newInterval` into `intervals` such that `intervals` is still sorted in ascending order by `starti` and `intervals` still does not have any overlapping intervals (merge overlapping intervals if necessary).\n",
    "\n",
    "Return `intervals` after the insertion.\n",
    "\n",
    "<b>Example 1:</b><br>\n",
    "Input: intervals = [[1,3],[6,9]], newInterval = [2,5]<br>\n",
    "Output: [[1,5],[6,9]]\n",
    "\n",
    "<b>Example 2:</b><br>\n",
    "Input: intervals = [[1,2],[3,5],[6,7],[8,10],[12,16]], newInterval = [4,8]<br>\n",
    "Output: [[1,2],[3,10],[12,16]]<br>\n",
    "Explanation: Because the new interval [4,8] overlaps with [3,5],[6,7],[8,10]."
   ]
  },
  {
   "cell_type": "code",
   "execution_count": 8,
   "id": "8879c9a8-0f8f-49de-9e2b-bd65ef455044",
   "metadata": {},
   "outputs": [],
   "source": [
    "# Beats: Runtime 41.57%, Memory 80.58% - Binary Search can be applied for this question\n",
    "class Solution(object):\n",
    "    def insert(self, intervals, newInterval):\n",
    "        \"\"\"\n",
    "        :type intervals: List[List[int]]\n",
    "        :type newInterval: List[int]\n",
    "        :rtype: List[List[int]]\n",
    "        \"\"\"\n",
    "        result = []\n",
    "        inserted = 0\n",
    "\n",
    "        if len(intervals) == 0:\n",
    "            return [newInterval]\n",
    "\n",
    "        for i in range(len(intervals)):\n",
    "            \n",
    "            if inserted: # remaining elements after the merging has happend\n",
    "                result.append(intervals[i])\n",
    "\n",
    "            elif intervals[i][1] < newInterval[0]: # no overlap but merged interval not yet determined\n",
    "                result.append(intervals[i])\n",
    "\n",
    "            elif intervals[i][0] > newInterval[1]: # no overlap and merged interval has been determined\n",
    "                result.append(newInterval)\n",
    "                inserted = 1\n",
    "                result.append(intervals[i])\n",
    "            \n",
    "            # adjustment of intervals\n",
    "            elif intervals[i][0] <= newInterval[0] and intervals[i][1] <= newInterval[1]:\n",
    "                newInterval = [intervals[i][0], newInterval[1]]\n",
    "\n",
    "            elif intervals[i][0] >= newInterval[0] and intervals[i][1] <= newInterval[1]:\n",
    "                newInterval = newInterval\n",
    "\n",
    "            elif intervals[i][0] >= newInterval[0] and intervals[i][1] >= newInterval[1]:\n",
    "                newInterval = [newInterval[0], intervals[i][1]]\n",
    "            \n",
    "            elif intervals[i][0] <= newInterval[0] and intervals[i][1] >= newInterval[1]:\n",
    "                newInterval = intervals[i]\n",
    "\n",
    "        if inserted == 0:\n",
    "            result.append(newInterval)\n",
    "\n",
    "        return result"
   ]
  },
  {
   "cell_type": "code",
   "execution_count": 9,
   "id": "6820ca88-6f9d-4249-b882-275c84979f98",
   "metadata": {},
   "outputs": [],
   "source": [
    "sol = Solution()"
   ]
  },
  {
   "cell_type": "code",
   "execution_count": 10,
   "id": "0b27a61e-155d-4ee0-94f8-9af45526e0be",
   "metadata": {},
   "outputs": [
    {
     "data": {
      "text/plain": [
       "[[1, 2], [3, 10], [12, 16]]"
      ]
     },
     "execution_count": 10,
     "metadata": {},
     "output_type": "execute_result"
    }
   ],
   "source": [
    "sol.insert([[1,2],[3,5],[6,7],[8,10],[12,16]], [4,8])"
   ]
  },
  {
   "cell_type": "markdown",
   "id": "544dd403-5cdb-4620-b1fd-df1f21f70690",
   "metadata": {},
   "source": [
    "### [4. 3Sums (medium)](https://leetcode.com/problems/3sum/)\n",
    "\n",
    "Given an integer array `nums`, return all the triplets `[nums[i], nums[j], nums[k]]` such that `i != j`, `i != k`, and `j != k`, and `nums[i] + nums[j] + nums[k] == 0`.\n",
    "\n",
    "Notice that the solution set must not contain duplicate triplets.\n",
    "\n",
    "<b>Example 1:</b><br>\n",
    "Input: nums = [-1,0,1,2,-1,-4]<br>\n",
    "Output: [[-1,-1,2],[-1,0,1]]<br>\n",
    "Explanation: <br>\n",
    "nums[0] + nums[1] + nums[2] = (-1) + 0 + 1 = 0.<br>\n",
    "nums[1] + nums[2] + nums[4] = 0 + 1 + (-1) = 0.<br>\n",
    "nums[0] + nums[3] + nums[4] = (-1) + 2 + (-1) = 0.<br>\n",
    "The distinct triplets are [-1,0,1] and [-1,-1,2].<br>\n",
    "Notice that the order of the output and the order of the triplets does not matter.\n",
    "\n",
    "<b>Example 2:</b><br>\n",
    "Input: nums = [0,1,1]<br>\n",
    "Output: []<br>\n",
    "Explanation: The only possible triplet does not sum up to 0.\n",
    "\n",
    "<b>Example 3:</b><br>\n",
    "Input: nums = [0,0,0]<br>\n",
    "Output: [[0,0,0]]<br>\n",
    "Explanation: The only possible triplet sums up to 0."
   ]
  },
  {
   "cell_type": "code",
   "execution_count": 11,
   "id": "6196cab9-dc89-4a88-9cda-e42bb81c72f3",
   "metadata": {},
   "outputs": [],
   "source": [
    "# Beats: Runtime 66.39%, Memory 68.98%\n",
    "class Solution(object):\n",
    "    def threeSum(self, nums):\n",
    "        \"\"\"\n",
    "        :type nums: List[int]\n",
    "        :rtype: List[List[int]]\n",
    "        \"\"\"\n",
    "        res = []\n",
    "        \n",
    "        # obviously, brute force would be O(n^3) time using 3 for loops\n",
    "        # for i in range(len(nums)):\n",
    "        #     for j in range(len(nums)):\n",
    "        #         for k in range(len(nums)):\n",
    "        #             if nums[i] + nums[j] + nums[k] == 0:\n",
    "        #                 if i != j and i != k and j != k:\n",
    "        #                     res.append([nums[i], nums[j], nums[k]])\n",
    "        \n",
    "        nums.sort()\n",
    "        for i in range(len(nums)):\n",
    "            if i > 0 and nums[i] == nums[i-1]:\n",
    "                continue\n",
    "\n",
    "            l, r = i+1, len(nums)-1\n",
    "            while l < r:\n",
    "                if nums[i] + nums[l] + nums[r] > 0:\n",
    "                    r-=1\n",
    "                elif nums[i] + nums[l] + nums[r] < 0:\n",
    "                    l+=1\n",
    "                else:\n",
    "                    res.append([nums[i], nums[l], nums[r]])\n",
    "                    l += 1\n",
    "                    while l < r and nums[l] == nums[l-1]:\n",
    "                        l+=1\n",
    "        return res"
   ]
  },
  {
   "cell_type": "code",
   "execution_count": 12,
   "id": "5771d0e5-dbb4-4a17-b894-b77f5fc89bc1",
   "metadata": {},
   "outputs": [],
   "source": [
    "sol = Solution()"
   ]
  },
  {
   "cell_type": "code",
   "execution_count": 13,
   "id": "a5d2952f-f80d-4171-b4e5-b379dfa11b66",
   "metadata": {},
   "outputs": [
    {
     "data": {
      "text/plain": [
       "[[-1, -1, 2], [-1, 0, 1]]"
      ]
     },
     "execution_count": 13,
     "metadata": {},
     "output_type": "execute_result"
    }
   ],
   "source": [
    "sol.threeSum([-1,0,1,2,-1,-4])"
   ]
  },
  {
   "cell_type": "markdown",
   "id": "c261a48b-4a82-4b1d-bd07-3c90bd63ed9b",
   "metadata": {},
   "source": [
    "**Note: Since we do not want duplicates, we could opt for sorting first then skipping over repeated permutation. Without careful consideration of this, we would think about removing duplicates at the end from the solution set which is not optimal.**"
   ]
  },
  {
   "cell_type": "markdown",
   "id": "8b525dec-a612-4d50-90d3-e7aaf21cd5d5",
   "metadata": {},
   "source": [
    "### [5. Product of Array Except Self (medium)](https://leetcode.com/problems/product-of-array-except-self/)\n",
    "\n",
    "Given an integer array `nums`, return an array `answer` such that `answer[i]` <i>is equal to the product of all the elements of</i> `nums` except `nums[i]`.\n",
    "\n",
    "The product of any prefix or suffix of `nums` is **guaranteed to fit in a 32-bit integer.**<br>\n",
    "You must write an algorithm that runs in `O(n)` time and **without using the division operation.**\n",
    "\n",
    " \n",
    "\n",
    "<b>Example 1:</b><br>\n",
    "Input: nums = [1,2,3,4]<br>\n",
    "Output: [24,12,8,6]\n",
    "\n",
    "<b>Example 2:</b><br>\n",
    "Input: nums = [-1,1,0,-3,3]<br>\n",
    "Output: [0,0,9,0,0]"
   ]
  },
  {
   "cell_type": "code",
   "execution_count": 1,
   "id": "6d2b0956-49ed-4b63-bc85-17c89b6ab63a",
   "metadata": {},
   "outputs": [],
   "source": [
    "# Beats: Runtime 20.25%, Memory 66.88%\n",
    "class Solution(object):\n",
    "    def productExceptSelf(self, nums):\n",
    "        \"\"\"\n",
    "        :type nums: List[int]\n",
    "        :rtype: List[int]\n",
    "        \"\"\"\n",
    "        res = [1] * len(nums)\n",
    "        \n",
    "        pre = 1\n",
    "        for i in range(len(nums)):\n",
    "            res[i] = pre\n",
    "            pre *= nums[i]\n",
    "            \n",
    "        post = 1\n",
    "        for i in range(len(nums)-1, -1, -1):\n",
    "            res[i] *= post\n",
    "            post *= nums[i]\n",
    "            \n",
    "        return res"
   ]
  },
  {
   "cell_type": "code",
   "execution_count": 2,
   "id": "66819459-2d11-4f48-ab10-bcb2b871a9f1",
   "metadata": {},
   "outputs": [],
   "source": [
    "sol = Solution()"
   ]
  },
  {
   "cell_type": "code",
   "execution_count": 3,
   "id": "022adb6e-7f29-452d-b224-7f8f051c38fc",
   "metadata": {},
   "outputs": [
    {
     "data": {
      "text/plain": [
       "[24, 12, 8, 6]"
      ]
     },
     "execution_count": 3,
     "metadata": {},
     "output_type": "execute_result"
    }
   ],
   "source": [
    "sol.productExceptSelf([1,2,3,4])"
   ]
  },
  {
   "cell_type": "markdown",
   "id": "164679e4-e98b-4dcc-bdec-060d8ed7745b",
   "metadata": {},
   "source": [
    "**Note: Pre-fix, Post-fix precomputation technique is used. We compute from left except self, then compute from right except self, multiply together.**"
   ]
  },
  {
   "cell_type": "markdown",
   "id": "012c8114-7b79-4e51-9b3d-3a9c44930b9c",
   "metadata": {},
   "source": [
    "### [6. Combination Sum (medium)](https://leetcode.com/problems/combination-sum/)\n",
    "\n",
    "Given an array of distinct integers `candidates` and a target integer `target`, return a list of all unique combinations of `candidates` where the chosen numbers sum to `target`. You may return the combinations in any order.\n",
    "\n",
    "The same number may be chosen from `candidates` an unlimited number of times. Two combinations are unique if the frequency of at least one of the chosen numbers is different.\n",
    "\n",
    "The test cases are generated such that the number of unique combinations that sum up to `target` is less than `150` combinations for the given input."
   ]
  },
  {
   "cell_type": "markdown",
   "id": "722be2d3-5127-4971-9284-8ea3624b746d",
   "metadata": {},
   "source": [
    "<b>Example 1:</b><br>\n",
    "Input: candidates = [2,3,6,7], target = 7<br>\n",
    "Output: [[2,2,3],[7]]<br>\n",
    "Explanation:<br>\n",
    "2 and 3 are candidates, and 2 + 2 + 3 = 7. Note that 2 can be used multiple times.<br>\n",
    "7 is a candidate, and 7 = 7.<br>\n",
    "These are the only two combinations.\n",
    "\n",
    "<b>Example 2:</b><br>\n",
    "Input: candidates = [2,3,5], target = 8<br>\n",
    "Output: [[2,2,2,2],[2,3,3],[3,5]]<br>\n",
    "\n",
    "<b>Example 3:</b><br>\n",
    "Input: candidates = [2], target = 1<br>\n",
    "Output: []"
   ]
  },
  {
   "cell_type": "code",
   "execution_count": 10,
   "id": "ddf49b91-c096-4f8f-842c-d25de5857a65",
   "metadata": {},
   "outputs": [],
   "source": [
    "# Beats: Runtime 18.67&, Memory 46.39%\n",
    "class Solution(object):\n",
    "    \n",
    "    def combinationSum(self, candidates, target):\n",
    "        \"\"\"\n",
    "        :type candidates: List[int]\n",
    "        :type target: int\n",
    "        :rtype: List[List[int]]\n",
    "        \"\"\"\n",
    "        res = []\n",
    "        def dfs(i, node, total):\n",
    "            if total == target:\n",
    "                res.append(node.copy())\n",
    "                return\n",
    "\n",
    "            if i >= len(candidates) or total > target:\n",
    "                return\n",
    "\n",
    "            node.append(candidates[i])\n",
    "            dfs(i, node, total + candidates[i])\n",
    "            node.pop()\n",
    "            dfs(i + 1, node, total)\n",
    "            \n",
    "        dfs(0, [], 0)\n",
    "        return res\n",
    "    \n",
    "    def combinationSumOptimal(self, candidates, target):\n",
    "    \n",
    "        def dfs(i, cur, target):\n",
    "            if target == 0:\n",
    "                return [cur]\n",
    "            res = []    \n",
    "            for j in range(i, len(candidates)):\n",
    "                if target - candidates[j] >= 0:\n",
    "                    res += dfs(j, cur + [candidates[j]], target - candidates[j])\n",
    "            return res\n",
    "\n",
    "        return dfs(0, [], target)"
   ]
  },
  {
   "cell_type": "code",
   "execution_count": 11,
   "id": "9d3024d4-540a-4371-9207-ab1099c5e887",
   "metadata": {},
   "outputs": [],
   "source": [
    "sol = Solution()"
   ]
  },
  {
   "cell_type": "code",
   "execution_count": 12,
   "id": "891b82b8-1476-4068-9954-bd962a69bbd5",
   "metadata": {},
   "outputs": [
    {
     "data": {
      "text/plain": [
       "[[2, 2, 3], [7]]"
      ]
     },
     "execution_count": 12,
     "metadata": {},
     "output_type": "execute_result"
    }
   ],
   "source": [
    "sol.combinationSum([2,3,6,7], 7)"
   ]
  },
  {
   "cell_type": "code",
   "execution_count": 13,
   "id": "e4a58b1d-cbd7-4de2-8044-da8438c50bf2",
   "metadata": {},
   "outputs": [
    {
     "data": {
      "text/plain": [
       "[[2, 2, 3], [7]]"
      ]
     },
     "execution_count": 13,
     "metadata": {},
     "output_type": "execute_result"
    }
   ],
   "source": [
    "sol.combinationSumOptimal([2,3,6,7], 7)"
   ]
  },
  {
   "cell_type": "markdown",
   "id": "b7780ad3-4601-425a-9677-1a929b3257b3",
   "metadata": {},
   "source": [
    "**Note: Backtracking technique is applicable for such problems - also for most backtracking problems on LeetCode.** \n",
    "\n",
    "For this problem, the time complexity is O(2^target)."
   ]
  },
  {
   "cell_type": "markdown",
   "id": "3666ef72-4c7f-445d-8bd0-b0f774a1f8e4",
   "metadata": {},
   "source": [
    "### [7. Merge Intervals (medium)](https://leetcode.com/problems/merge-intervals/)\n",
    "\n",
    "Given an array of `intervals` where `intervals[i] = [starti, endi]`, merge all overlapping intervals, and return <i>an array of the non-overlapping intervals that cover all the intervals in the input.</i>\n",
    "\n",
    "<b>Example 1:</b><br>\n",
    "Input: intervals = [[1,3],[2,6],[8,10],[15,18]]<br>\n",
    "Output: [[1,6],[8,10],[15,18]]<br>\n",
    "Explanation: Since intervals [1,3] and [2,6] overlap, merge them into [1,6].\n",
    "\n",
    "<b>Example 2:</b><br>\n",
    "Input: intervals = [[1,4],[4,5]]<br>\n",
    "Output: [[1,5]]<br>\n",
    "Explanation: Intervals [1,4] and [4,5] are considered overlapping."
   ]
  },
  {
   "cell_type": "code",
   "execution_count": 14,
   "id": "6ee8c602-f5ef-413e-b20c-02d07cf04f10",
   "metadata": {},
   "outputs": [],
   "source": [
    "# Beats: Runtime 80.71%, Memory 49.89%\n",
    "\n",
    "class Solution(object):\n",
    "    def merge(self, intervals):\n",
    "        \"\"\"\n",
    "        :type intervals: List[List[int]]\n",
    "        :rtype: List[List[int]]\n",
    "        \"\"\"\n",
    "        # not sorted\n",
    "        # no overlap\n",
    "        # partial overlap\n",
    "        # full overlap\n",
    "\n",
    "        if len(intervals) == 1:\n",
    "            return intervals\n",
    "\n",
    "        intervals.sort()\n",
    "        res = [intervals[0]]\n",
    "\n",
    "        for i in range(1, len(intervals)):\n",
    "\n",
    "            if res[-1][1] < intervals[i][0]: # no overlap\n",
    "                res.append(intervals[i])\n",
    "\n",
    "            elif res[-1][1] >= intervals[i][0]: # partial overlap\n",
    "                res[-1][1] = max(res[-1][1], intervals[i][1])\n",
    "                \n",
    "            elif res[-1][1] >= intervals[i][1]: # full overlap\n",
    "                res[-1][0] = min(res[-1][0], intervals[i][0])\n",
    "\n",
    "        return res"
   ]
  },
  {
   "cell_type": "code",
   "execution_count": 15,
   "id": "2b64514d-b8c7-422b-a9f1-6cb3cc2c0cc0",
   "metadata": {},
   "outputs": [],
   "source": [
    "sol = Solution()"
   ]
  },
  {
   "cell_type": "code",
   "execution_count": 16,
   "id": "c8d91136-7b37-4197-93ca-f4acb0363214",
   "metadata": {},
   "outputs": [
    {
     "data": {
      "text/plain": [
       "[[1, 6], [8, 10], [15, 18]]"
      ]
     },
     "execution_count": 16,
     "metadata": {},
     "output_type": "execute_result"
    }
   ],
   "source": [
    "sol.merge([[1,3],[2,6],[8,10],[15,18]])"
   ]
  },
  {
   "cell_type": "markdown",
   "id": "8f71fbe6-6415-4c49-ae37-e6633f23f363",
   "metadata": {},
   "source": [
    "### [8. Majority Element (easy)](https://leetcode.com/problems/majority-element/)\n",
    "\n",
    "Given an array `nums` of size `n`, return the <i>majority element.</i>\n",
    "\n",
    "The majority element is the element that appears more than `⌊n / 2⌋` times. You may assume that the majority element always exists in the array.\n",
    "\n",
    "<b>Example 1:</b><br>\n",
    "Input: nums = [3,2,3]<br>\n",
    "Output: 3\n",
    "\n",
    "<b>Example 2:</b><br>\n",
    "Input: nums = [2,2,1,1,1,2,2]<br>\n",
    "Output: 2"
   ]
  },
  {
   "cell_type": "code",
   "execution_count": 24,
   "id": "8b44fa50-44b4-4fda-8b96-999737ec8103",
   "metadata": {},
   "outputs": [],
   "source": [
    "# Beats: Runtime 63.81%, Memory 12.57%\n",
    "class Solution(object):\n",
    "    def majorityElement(self, nums):\n",
    "        \"\"\"\n",
    "        :type nums: List[int]\n",
    "        :rtype: int\n",
    "        \"\"\"\n",
    "        # m = len(nums)//2\n",
    "        h = {}\n",
    "        \n",
    "        for i in range(len(nums)):\n",
    "            \n",
    "            if nums[i] not in h.keys():\n",
    "                h[nums[i]] = 1\n",
    "            else:\n",
    "                h[nums[i]] += 1\n",
    "                \n",
    "            # if h[nums[i]] > m:\n",
    "            #     return nums[i]\n",
    "            \n",
    "        k = list(h.keys())\n",
    "        v = list(h.values())\n",
    "       \n",
    "        return k[v.index(max(v))]"
   ]
  },
  {
   "cell_type": "code",
   "execution_count": 25,
   "id": "190b9aab-6b10-41a7-bc14-f6066bf98f17",
   "metadata": {},
   "outputs": [],
   "source": [
    "sol = Solution()"
   ]
  },
  {
   "cell_type": "code",
   "execution_count": 26,
   "id": "04256d57-d04d-4e1c-a6e4-beb372197fb0",
   "metadata": {},
   "outputs": [
    {
     "data": {
      "text/plain": [
       "2"
      ]
     },
     "execution_count": 26,
     "metadata": {},
     "output_type": "execute_result"
    }
   ],
   "source": [
    "sol.majorityElement([2,2,1,1,1,2,2])"
   ]
  },
  {
   "cell_type": "markdown",
   "id": "2527194c-a6ad-4653-9347-d295792e2af0",
   "metadata": {},
   "source": [
    "### [9. Sort Colors (medium)](https://leetcode.com/problems/sort-colors/)\n",
    "\n",
    "Given an array `nums` with `n` objects colored red, white, or blue, sort them **in-place** so that objects of the same color are adjacent, with the colors <i>in the order red, white, and blue.</i>\n",
    "\n",
    "We will use the integers `0`, `1`, and `2` to represent the color red, white, and blue, respectively.\n",
    "\n",
    "You must solve this problem without using the library's sort function.\n",
    "\n",
    "<b>Example 1:</b><br>\n",
    "Input: nums = [2,0,2,1,1,0]<br>\n",
    "Output: [0,0,1,1,2,2]\n",
    "                         \n",
    "<b>Example 2:</b><br>\n",
    "Input: nums = [2,0,1]<br>\n",
    "Output: [0,1,2]"
   ]
  },
  {
   "cell_type": "code",
   "execution_count": 30,
   "id": "ce1f9982-a7dd-4922-8e85-67012699d6a3",
   "metadata": {},
   "outputs": [],
   "source": [
    "# Beats: Runtime 88.88%, Memory 98.47%\n",
    "class Solution(object):\n",
    "    def sortColors(self, nums):\n",
    "        \"\"\"\n",
    "        :type nums: List[int]\n",
    "        :rtype: None Do not return anything, modify nums in-place instead.\n",
    "        \"\"\"\n",
    "        # in-place - swapping / replacement\n",
    "        l, r = 0, len(nums) - 1\n",
    "        i = 0\n",
    "        while i <= r:\n",
    "            if nums[i] == 0:\n",
    "                nums[l], nums[i] = nums[i], nums[l]\n",
    "                l += 1\n",
    "            if nums[i] == 2:\n",
    "                nums[r], nums[i] = nums[i], nums[r]\n",
    "                r -= 1\n",
    "                i -= 1\n",
    "            i += 1\n",
    "            \n",
    "        return nums"
   ]
  },
  {
   "cell_type": "code",
   "execution_count": 31,
   "id": "a6c9264c-8b9b-46af-9268-79c8d24a176d",
   "metadata": {},
   "outputs": [],
   "source": [
    "sol = Solution()"
   ]
  },
  {
   "cell_type": "code",
   "execution_count": 32,
   "id": "759ba081-fd23-4096-981d-83d9d29147f9",
   "metadata": {},
   "outputs": [
    {
     "data": {
      "text/plain": [
       "[0, 0, 1, 1, 2, 2]"
      ]
     },
     "execution_count": 32,
     "metadata": {},
     "output_type": "execute_result"
    }
   ],
   "source": [
    "sol.sortColors([2,0,2,1,1,0])"
   ]
  },
  {
   "cell_type": "markdown",
   "id": "0e0af540-475f-4dc2-8152-ff4affb6db8b",
   "metadata": {},
   "source": [
    "**Note: Bucket Sort is the more trivial solution, but Two-Pointer solution here is more efficient.**"
   ]
  },
  {
   "cell_type": "markdown",
   "id": "a37c0682-32d0-4f3b-a260-fd0eda3f870d",
   "metadata": {},
   "source": [
    "### [10. Contains Duplicates (easy)](https://leetcode.com/problems/contains-duplicate)\n",
    "\n",
    "Given an integer array `nums`, return `true` if any value appears at **least twice** in the array, and return `false` if every element is distinct.\n",
    "\n",
    "<b>Example 1:</b><br>\n",
    "Input: nums = [1,2,3,1]<br>\n",
    "Output: true\n",
    "\n",
    "<b>Example 2:</b><br>\n",
    "Input: nums = [1,2,3,4]<br>\n",
    "Output: false\n",
    "\n",
    "<b>Example 3:</b><br>\n",
    "Input: nums = [1,1,1,3,3,4,3,2,4,2]<br>\n",
    "Output: true"
   ]
  },
  {
   "cell_type": "code",
   "execution_count": 33,
   "id": "a22ecba2-c965-4b6b-ba7e-1dce8fc8c12d",
   "metadata": {},
   "outputs": [],
   "source": [
    "class Solution(object):\n",
    "    def containsDuplicate(self, nums):\n",
    "        \"\"\"\n",
    "        :type nums: List[int]\n",
    "        :rtype: bool\n",
    "        \"\"\"\n",
    "        if len(nums) > len(set(nums)):\n",
    "            return True\n",
    "        return False"
   ]
  },
  {
   "cell_type": "code",
   "execution_count": 34,
   "id": "9ea099f3-b323-4876-a318-9525a378f859",
   "metadata": {},
   "outputs": [],
   "source": [
    "sol = Solution()"
   ]
  },
  {
   "cell_type": "code",
   "execution_count": 35,
   "id": "f464b101-2872-42ab-8b85-4aa4b7644f32",
   "metadata": {},
   "outputs": [
    {
     "data": {
      "text/plain": [
       "True"
      ]
     },
     "execution_count": 35,
     "metadata": {},
     "output_type": "execute_result"
    }
   ],
   "source": [
    "sol.containsDuplicate([1,1,1,3,3,4,3,2,4,2])"
   ]
  },
  {
   "attachments": {
    "c1aa1333-be0e-4e32-8589-5932c08d9869.png": {
     "image/png": "[encoded data removed]"
    }
   },
   "cell_type": "markdown",
   "id": "4322cd99-ab2c-446f-bdd6-b9eb126a717a",
   "metadata": {},
   "source": [
    "### [11. Container with Most Water (medium)](https://leetcode.com/problems/container-with-most-water/)\n",
    "\n",
    "\n",
    "You are given an integer array `height` of length `n`. There are `n` vertical lines drawn such that the two endpoints of the `ith` line are `(i, 0)` and `(i, height[i])`.\n",
    "\n",
    "Find two lines that together with the x-axis form a container, such that the container contains the most water.\n",
    "\n",
    "<i>Return the maximum amount of water a container can store.</i>\n",
    "\n",
    "Notice that you may not slant the container.\n",
    "\n",
    "<b>Example 1:</b><br>\n",
    "![image.png](attachment:c1aa1333-be0e-4e32-8589-5932c08d9869.png)\n",
    "\n",
    "Input: height = [1,8,6,2,5,4,8,3,7]<br>\n",
    "Output: 49<br>\n",
    "Explanation: The above vertical lines are represented by array [1,8,6,2,5,4,8,3,7]. In this case, the max area of water (blue section) the container can contain is 49.\n",
    "\n",
    "<b>Example 2:</b><br>\n",
    "Input: height = [1,1]<br>\n",
    "Output: 1"
   ]
  },
  {
   "cell_type": "code",
   "execution_count": 36,
   "id": "51a00536-b5ff-4988-8f5e-bca300e157d2",
   "metadata": {},
   "outputs": [],
   "source": [
    "# Beats: Runtime 46.41%, Memory 82.72%\n",
    "class Solution(object):\n",
    "    def maxArea(self, height):\n",
    "        \"\"\"\n",
    "        :type height: List[int]\n",
    "        :rtype: int\n",
    "        \"\"\"\n",
    "        # need to check the area for store each time\n",
    "        # order matters\n",
    "        # the only way we have a chance of increasing area in next time step is by moving the shorter end\n",
    "        mx = 0\n",
    "        l, r = 0, len(height)-1\n",
    "\n",
    "        while l < r and r < len(height):\n",
    "            area = min(height[l], height[r]) * (r-l)\n",
    "            if area > mx:\n",
    "                mx = area\n",
    "            if height[l] < height[r]:\n",
    "                l+=1\n",
    "            else:\n",
    "                r-=1\n",
    "        return mx"
   ]
  },
  {
   "cell_type": "code",
   "execution_count": 37,
   "id": "179d2a84-b47f-445d-afce-b47e7a349f29",
   "metadata": {},
   "outputs": [],
   "source": [
    "sol = Solution()"
   ]
  },
  {
   "cell_type": "code",
   "execution_count": 38,
   "id": "6e115ef8-7a58-4ba9-ba91-09ad32a8d55a",
   "metadata": {},
   "outputs": [
    {
     "data": {
      "text/plain": [
       "49"
      ]
     },
     "execution_count": 38,
     "metadata": {},
     "output_type": "execute_result"
    }
   ],
   "source": [
    "sol.maxArea([1,8,6,2,5,4,8,3,7])"
   ]
  },
  {
   "cell_type": "markdown",
   "id": "ba4e68b6-9f4a-4bc7-a3c7-8d0bd6aa6bed",
   "metadata": {},
   "source": [
    "### [13. Gas Station (medium)](https://leetcode.com/problems/gas-station/)\n",
    "\n",
    "There are `n` gas stations along a circular route, where the amount of gas at the $i^{th}$ station is `gas[i]`.\n",
    "\n",
    "You have a car with an unlimited gas tank and it costs `cost[i]` of gas to travel from the $i^{th}$ station to its next $(i + 1)^{th}$ station. You begin the journey with an empty tank at one of the gas stations.\n",
    "\n",
    "Given two integer arrays `gas` and `cost`, <i>return the starting gas station's index if you can travel around the circuit once in the clockwise direction, otherwise return `-1`.</i> \n",
    "\n",
    "If there exists a solution, it is **guaranteed to be unique**.\n",
    "\n",
    "\n",
    "**Example 1:**\n",
    "\n",
    "Input: gas = [1,2,3,4,5], cost = [3,4,5,1,2]</br>\n",
    "Output: 3\n",
    "\n",
    "Explanation:</br>\n",
    "Start at station 3 (index 3) and fill up with 4 unit of gas. Your tank = 0 + 4 = 4</br>\n",
    "Travel to station 4. Your tank = 4 - 1 + 5 = 8</br>\n",
    "Travel to station 0. Your tank = 8 - 2 + 1 = 7</br>\n",
    "Travel to station 1. Your tank = 7 - 3 + 2 = 6</br>\n",
    "Travel to station 2. Your tank = 6 - 4 + 3 = 5</br>\n",
    "Travel to station 3. The cost is 5. Your gas is just enough to travel back to station 3.</br>\n",
    "Therefore, return 3 as the starting index.\n",
    "\n",
    "**Example 2:**\n",
    "\n",
    "Input: gas = [2,3,4], cost = [3,4,3]</br>\n",
    "Output: -1</br>\n",
    "\n",
    "Explanation:</br>\n",
    "You can't start at station 0 or 1, as there is not enough gas to travel to the next station.</br>\n",
    "Let's start at station 2 and fill up with 4 unit of gas. Your tank = 0 + 4 = 4</br>\n",
    "Travel to station 0. Your tank = 4 - 3 + 2 = 3</br>\n",
    "Travel to station 1. Your tank = 3 - 3 + 3 = 3</br>\n",
    "You cannot travel back to station 2, as it requires 4 unit of gas but you only have 3.</br>\n",
    "Therefore, you can't travel around the circuit once no matter where you start."
   ]
  },
  {
   "cell_type": "code",
   "execution_count": 1,
   "id": "5db6c045-b75e-4b0a-9ee9-4f8cada3dc3b",
   "metadata": {},
   "outputs": [],
   "source": [
    "class Solution(object):\n",
    "    def canCompleteCircuit(self, gas, cost):\n",
    "        \"\"\"\n",
    "        :type gas: List[int]\n",
    "        :type cost: List[int]\n",
    "        :rtype: int\n",
    "        \"\"\"\n",
    "        l = len(gas)\n",
    "        \n",
    "        net = [(gas[i] - cost[i]) for i in range(l)]\n",
    "        \n",
    "        # if solution exists, the loop should close above or at least 0\n",
    "        if sum(net) < 0:\n",
    "            return -1\n",
    "        \n",
    "        # we can exploit the given condition of a unique solution, hence single iteration\n",
    "        car_gas = 0\n",
    "        start_station = 0\n",
    "        \n",
    "        for i in range(l):\n",
    "            if car_gas + net[i] < 0:\n",
    "                car_gas = 0\n",
    "                start_station = i + 1\n",
    "            else:\n",
    "                car_gas += net[i]\n",
    "        \n",
    "        return start_station\n",
    "                "
   ]
  },
  {
   "cell_type": "code",
   "execution_count": 2,
   "id": "6b064726-66cf-4fbe-a33c-b761566eaf2d",
   "metadata": {},
   "outputs": [],
   "source": [
    "sol = Solution()"
   ]
  },
  {
   "cell_type": "code",
   "execution_count": 3,
   "id": "05778395-0b5b-4cf7-90fc-17b047540d58",
   "metadata": {},
   "outputs": [
    {
     "data": {
      "text/plain": [
       "3"
      ]
     },
     "execution_count": 3,
     "metadata": {},
     "output_type": "execute_result"
    }
   ],
   "source": [
    "sol.canCompleteCircuit([5,8,2,8], [6,5,6,6])"
   ]
  },
  {
   "cell_type": "markdown",
   "id": "f088821e-c546-4c79-a07b-36625f9ca55e",
   "metadata": {},
   "source": [
    "### [14. Longest Consecutive Sequence (medium)](https://leetcode.com/problems/longest-consecutive-sequence/)\n",
    "\n",
    "Given an unsorted array of integers `nums`, return the length of the longest consecutive elements sequence.\n",
    "\n",
    "You must write an algorithm that runs in `O(n)` time.\n",
    "\n",
    "**Example 1:**\n",
    "\n",
    "Input: nums = [100,4,200,1,3,2]</br>\n",
    "Output: 4</br>\n",
    "Explanation: The longest consecutive elements sequence is [1, 2, 3, 4]. Therefore its length is 4.\n",
    "\n",
    "**Example 2:**\n",
    "\n",
    "Input: nums = [0,3,7,2,5,8,4,6,0,1]</br>\n",
    "Output: 9"
   ]
  },
  {
   "cell_type": "code",
   "execution_count": 4,
   "id": "c5fc9e78-1f94-4d66-b38a-76888159c96f",
   "metadata": {},
   "outputs": [],
   "source": [
    "class Solution(object):\n",
    "    def longestConsecutive(self, nums):\n",
    "        \"\"\"\n",
    "        :type nums: List[int]\n",
    "        :rtype: int\n",
    "        \"\"\"\n",
    "        s = set(nums) # internal hashtable\n",
    "        l = 0\n",
    "        \n",
    "        for i in range(len(nums)):\n",
    "            # if we have seen this number before, we don't recount it\n",
    "            if (nums[i] - 1) in s:\n",
    "                pass\n",
    "            # if not we try to greedily find the longest sequence which exists for this starting number\n",
    "            else:\n",
    "                n = nums[i]\n",
    "                c = 0\n",
    "                while n in s: # does not contribute to O(N^2) on average case despite while loop, lookup is O(1)\n",
    "                    c += 1\n",
    "                    n += 1\n",
    "\n",
    "                l = max(l, c)\n",
    "        return l"
   ]
  },
  {
   "cell_type": "code",
   "execution_count": 5,
   "id": "d8772524-5847-4ae3-a35f-81fe8708ac63",
   "metadata": {},
   "outputs": [],
   "source": [
    "sol = Solution()"
   ]
  },
  {
   "cell_type": "code",
   "execution_count": 6,
   "id": "be27da85-5b7f-4bd9-9496-cbad16ad5a1f",
   "metadata": {},
   "outputs": [
    {
     "data": {
      "text/plain": [
       "9"
      ]
     },
     "execution_count": 6,
     "metadata": {},
     "output_type": "execute_result"
    }
   ],
   "source": [
    "sol.longestConsecutive([0,3,7,2,5,8,4,6,0,1])"
   ]
  },
  {
   "cell_type": "markdown",
   "id": "8bc9d07e-7e5b-4171-857b-d4102c350375",
   "metadata": {},
   "source": [
    "### [15. Rotate Array (medium)](https://leetcode.com/problems/rotate-array/)\n",
    "\n",
    "Given an integer array `nums`, rotate the array to the right by `k` steps, where `k` is non-negative.\n",
    "\n",
    "**Example 1:**\n",
    "\n",
    "Input: nums = [1,2,3,4,5,6,7], k = 3</br>\n",
    "Output: [5,6,7,1,2,3,4]</br>\n",
    "\n",
    "Explanation:</br>\n",
    "rotate 1 steps to the right: [7,1,2,3,4,5,6]</br>\n",
    "rotate 2 steps to the right: [6,7,1,2,3,4,5]</br>\n",
    "rotate 3 steps to the right: [5,6,7,1,2,3,4]</br>\n",
    "\n",
    "**Example 2:**\n",
    "\n",
    "Input: nums = [-1,-100,3,99], k = 2</br>\n",
    "Output: [3,99,-1,-100]</br>\n",
    "\n",
    "Explanation: </br>\n",
    "rotate 1 steps to the right: [99,-1,-100,3]</br>\n",
    "rotate 2 steps to the right: [3,99,-1,-100]"
   ]
  },
  {
   "cell_type": "code",
   "execution_count": 17,
   "id": "5b7da930-8b13-45aa-b84a-a836e08b6df8",
   "metadata": {},
   "outputs": [],
   "source": [
    "\n",
    "# [0,1,2,3,4,5,6,7], k=2\n",
    "\n",
    "# [1,2,3,4], k = 4 \n",
    "# [4,1,2,3]\n",
    "# [3,4,1,2]\n",
    "# [2,3,4,1]\n",
    "# [1,2,3,4]\n",
    "        \n",
    "# MOST EFFICIENT\n",
    "# [5,4,3,2,1,0,6,7]\n",
    "# [5,4,3,2,1,0,7,6]\n",
    "# [6,7,0,1,2,3,4,5]\n",
    "\n",
    "# WORKS but USES MORE SPACE\n",
    "# [7,6,5,4,3,2,1,0]\n",
    "# [7,6,5,4,3,2,1,0,7]\n",
    "# [7,0,1,2,3,4,5,6,7]\n",
    "# [7,0,1,2,3,4,5,6]\n",
    "\n",
    "# [6,5,4,3,2,1,0,7]\n",
    "# [6,5,4,3,2,1,0,7,6]\n",
    "# [5,4,3,2,1,7,6]\n",
    "# [6,7,1,2,3,4,5]\n",
    "\n",
    "        \n",
    "class Solution(object):\n",
    "    def rotate(self, nums, k):\n",
    "        \"\"\"\n",
    "        :type nums: List[int]\n",
    "        :type k: int\n",
    "        :rtype: None Do not return anything, modify nums in-place instead.\n",
    "        \"\"\"\n",
    "        # Method 1\n",
    "#         nums.reverse()\n",
    "#         for i in range(k):\n",
    "#             nums.append(nums[i])\n",
    "            \n",
    "#         nums.reverse()\n",
    "#         for i in range(k):\n",
    "#             nums.pop()\n",
    "            \n",
    "        # Optimal Solution\n",
    "        \n",
    "        k = k % len(nums) # k == len(nums) returns the same sequence\n",
    "        \n",
    "        l, r = 0, len(nums) - k - 1\n",
    "        while l < r:    \n",
    "            nums[l], nums[r] = nums[r], nums[l]\n",
    "            l+=1\n",
    "            r-=1\n",
    "        \n",
    "        l, r = len(nums) - k, len(nums) - 1\n",
    "        while l < r:\n",
    "            nums[l], nums[r] = nums[r], nums[l]\n",
    "            l+=1\n",
    "            r-=1\n",
    "        \n",
    "        nums.reverse()"
   ]
  },
  {
   "cell_type": "code",
   "execution_count": 20,
   "id": "3ee98609-c590-40c2-9d36-eb2cb8ebf1f7",
   "metadata": {},
   "outputs": [],
   "source": [
    "sol = Solution()"
   ]
  },
  {
   "cell_type": "code",
   "execution_count": 26,
   "id": "9b91790c-7872-49bf-9ad8-435799a71357",
   "metadata": {},
   "outputs": [
    {
     "data": {
      "text/plain": [
       "[7, 8, 9, 1, 2, 3, 4, 5, 6]"
      ]
     },
     "execution_count": 26,
     "metadata": {},
     "output_type": "execute_result"
    }
   ],
   "source": [
    "nums = [1,2,3,4,5,6,7,8,9]\n",
    "sol.rotate(nums, k=3)\n",
    "\n",
    "nums"
   ]
  },
  {
   "cell_type": "markdown",
   "id": "0afd68c4-bea5-4e8f-aa22-0bb36611dd9b",
   "metadata": {},
   "source": [
    "### [16. Contiguous Array (medium)](https://leetcode.com/problems/contiguous-array/)\n",
    "\n",
    "Given a binary array `nums`, return the maximum length of a contiguous subarray with an equal number of 0 and 1.\n",
    "\n",
    "**Example 1:**\n",
    "\n",
    "Input: nums = [0,1]</br>\n",
    "Output: 2</br>\n",
    "Explanation: [0, 1] is the longest contiguous subarray with an equal number of 0 and 1.\n",
    "\n",
    "**Example 2:**\n",
    "\n",
    "Input: nums = [0,1,0]</br>\n",
    "Output: 2</br>\n",
    "Explanation: [0, 1] (or [1, 0]) is a longest contiguous subarray with equal number of 0 and 1."
   ]
  },
  {
   "cell_type": "code",
   "execution_count": 17,
   "id": "e965652c-ac08-4801-9cac-ad8552d5d4aa",
   "metadata": {},
   "outputs": [],
   "source": [
    "class Solution(object):\n",
    "    def findMaxLength(self, nums):\n",
    "        \"\"\"\n",
    "        :type nums: List[int]\n",
    "        :rtype: int\n",
    "        \"\"\"\n",
    "        # the logic here is such that if you were the encounter the same count twice, \n",
    "        # it means that there is an equal number of 0 and 1 AFTER the last encounter until the current encounter inclusive\n",
    "        count_idx = {0 : -1}\n",
    "        count = 0\n",
    "        max_len = 0\n",
    "        \n",
    "        for i in range(len(nums)):\n",
    "            print(\"Iteration\", i)\n",
    "            if nums[i] == 0:\n",
    "                count-=1\n",
    "            else:\n",
    "                count+=1\n",
    "            print(\"Count\", count)\n",
    "                \n",
    "            if count in count_idx:\n",
    "                print(\"Count exists for index\", count_idx[count])\n",
    "                print(\"Previous max_len\", max_len)\n",
    "                max_len = max(max_len, i - count_idx[count])\n",
    "                print(\"New max_len\", max_len, \"\\n\")\n",
    "            else:\n",
    "                print(\"Add unseen count to map\\n\")\n",
    "                count_idx[count] = i\n",
    "        \n",
    "        return max_len"
   ]
  },
  {
   "cell_type": "code",
   "execution_count": 18,
   "id": "200cbdef-533d-4a73-8986-091f6fc370fd",
   "metadata": {},
   "outputs": [],
   "source": [
    "sol = Solution()"
   ]
  },
  {
   "cell_type": "code",
   "execution_count": 20,
   "id": "8384da0a-f621-4e74-a9ce-4dd9349efa6a",
   "metadata": {},
   "outputs": [],
   "source": [
    "# sol.findMaxLength([0,1,1,1,0,1,1,0]) "
   ]
  },
  {
   "cell_type": "markdown",
   "id": "6ca3aef2-a818-4cf6-a786-3bb2c11c6da9",
   "metadata": {},
   "source": [
    "### [17. Subarray equals K (medium)](https://leetcode.com/problems/subarray-sum-equals-k/)\n",
    "\n",
    "Given an array of integers `nums` and an integer `k`, return the total number of subarrays whose sum equals to `k`.\n",
    "\n",
    "A subarray is a contiguous non-empty sequence of elements within an array.\n",
    "\n",
    "**Example 1:**\n",
    "\n",
    "Input: nums = [1,1,1], k = 2</br>\n",
    "Output: 2\n",
    "\n",
    "**Example 2:**\n",
    "\n",
    "Input: nums = [1,2,3], k = 3</br>\n",
    "Output: 2"
   ]
  },
  {
   "cell_type": "markdown",
   "id": "def58a14-e962-448a-9f3e-366d039b726b",
   "metadata": {},
   "source": [
    "**NOTE: Prefix Sum Technique**"
   ]
  },
  {
   "cell_type": "code",
   "execution_count": 47,
   "id": "4d07f878-fde0-43c7-8e11-cc9c3410ef15",
   "metadata": {},
   "outputs": [],
   "source": [
    "class Solution(object):\n",
    "    def subarraySum(self, nums, k):\n",
    "        \"\"\"\n",
    "        :type nums: List[int]\n",
    "        :type k: int\n",
    "        :rtype: int\n",
    "        \"\"\"\n",
    "        # brute force: double for-loop, we check if the consecutive numbers sum up to k\n",
    "        # nums = [1, 2, 3, 4, 5, 0, 0, 0], k = 9\n",
    "        # intuitively we see that we have two such subarrays, [2,3,4] and [4,5]\n",
    "        # the technique of prefix sum 'maps' the cumulative at each index i.e.\n",
    "        # nums = [1,2,3,4,5,0,0,0]\n",
    "        # prefix sums = [1, 3, 6, 10, 15, 15, 15, 15]\n",
    "        \n",
    "        # sum(i, j) = sum(0, j) - sum(0, i), where sum(i, j) is the sum from index i to j-1\n",
    "        #           = idx 0 + idx 1 + ... idx j-1 - (idx 0 + idx 1 + ... + idx i-1)\n",
    "        #           = idx i + ... + idx j - 1\n",
    "        \n",
    "        # implications by leveraging on this property:\n",
    "        #   letting our target subarray between index i and j be sum(i,j); target = sum(i, j)\n",
    "        #   re-arranging the property above: sum(0, j) - sum(i, j) = sum(0, i)\n",
    "        #   hence, if at each step we compare the sum (so far i.e. sum(0, j)) against our target sum and find that sum(0, i) exists,\n",
    "        #   it must mean that there was a subarray between those indices\n",
    "        \n",
    "        # a slight extension of the two sum logic\n",
    "        \n",
    "        count = 0\n",
    "        prefsum = 0\n",
    "        h = {0: 1}\n",
    "        \n",
    "        for i in range(len(nums)):\n",
    "            # print(\"Iteration\", i)\n",
    "            # print(\"Prefix Sum:\", prefsum)\n",
    "            prefsum += nums[i]\n",
    "            # print(\"Prefix Sum:\", prefsum)\n",
    "            \n",
    "            if prefsum - k in h:\n",
    "                # print(\"Exists in h:\", prefsum - k)\n",
    "                count += h[prefsum - k]\n",
    "                \n",
    "            if prefsum not in h:\n",
    "                # print(\"Adding\", prefsum, \"to hash map\\n\")\n",
    "                h[prefsum] = 1\n",
    "            else:\n",
    "                # print(\"Prefix Sum\", prefsum, \"exists in hash map, increment count\\n\")\n",
    "                h[prefsum] += 1\n",
    "                \n",
    "        return count"
   ]
  },
  {
   "cell_type": "code",
   "execution_count": 48,
   "id": "9e4d7b01-77bd-4b11-be83-f238fcbc6a79",
   "metadata": {},
   "outputs": [],
   "source": [
    "sol = Solution()"
   ]
  },
  {
   "cell_type": "code",
   "execution_count": 49,
   "id": "95a2dba5-67f3-4a26-b9fb-5c2b5d85681e",
   "metadata": {},
   "outputs": [
    {
     "data": {
      "text/plain": [
       "7"
      ]
     },
     "execution_count": 49,
     "metadata": {},
     "output_type": "execute_result"
    }
   ],
   "source": [
    "sol.subarraySum([1, 2, 3, 3, 3, 2, 1, 0, 0, 0], 6)"
   ]
  },
  {
   "cell_type": "markdown",
   "id": "0eb26877-24ac-4a4e-837d-39fa58c80d23",
   "metadata": {},
   "source": [
    "### [19. Move Zeros (easy)](https://leetcode.com/problems/move-zeroes/)\n",
    "\n",
    "Given an integer array `nums`, move all `0's` to the end of it while maintaining the relative order of the non-zero elements.\n",
    "\n",
    "Note that you must do this in-place without making a copy of the array.\n",
    "\n",
    "**Example 1:**\n",
    "\n",
    "Input: nums = [0,1,0,3,12]</br>\n",
    "Output: [1,3,12,0,0]\n",
    "\n",
    "**Example 2:**\n",
    "\n",
    "Input: nums = [0] </br>\n",
    "Output: [0]"
   ]
  },
  {
   "cell_type": "code",
   "execution_count": 51,
   "id": "73c32261-0a68-4aba-a011-eda8a0a4ad06",
   "metadata": {},
   "outputs": [],
   "source": [
    "class Solution(object):\n",
    "    def moveZeroes(self, nums):\n",
    "        \"\"\"\n",
    "        :type nums: List[int]\n",
    "        :rtype: None Do not return anything, modify nums in-place instead.\n",
    "        \"\"\"\n",
    "        # intuitively, we can imagine we know the last known place for zero and if it exists, we swap with the latest known non-zero\n",
    "        # hence, we can employ two-pointers technique - more specifically, slow and fast pointers\n",
    "        # where the slow pointer points to earliest known 0 location while the fast point iterates to the next value\n",
    "        \n",
    "        # [0, 1, 0, 3, 12]\n",
    "        # Iteration 0: both points to 0 at index 0, left pointer stays since it already points to zero\n",
    "        # Iteration 1: right pointer points to 1, swap happens and left pointer now points to 1 hence move it up\n",
    "        # Iteration 2: right pointer points to 0 at index 2 but left pointer also point to 0 at index 1, no increment\n",
    "        # Iteration 3: right pointer points to 3 at index 3, swap happens and left pointer now points to second 0\n",
    "        \n",
    "        # key thing to understand/accept here is:\n",
    "        #   - the swap will always take place between the earliest known zero and non-zero, thus guarantee-ing order preservation\n",
    "        \n",
    "        l = 0\n",
    "        for r in range(len(nums)):\n",
    "            if nums[l] == 0 and nums[r] != 0:\n",
    "                nums[l], nums[r] = nums[r], nums[l]\n",
    "                \n",
    "            if nums[l] != 0:\n",
    "                l += 1"
   ]
  },
  {
   "cell_type": "code",
   "execution_count": 55,
   "id": "2871b88b-6dc1-4e8c-b774-9e2eaa76a812",
   "metadata": {},
   "outputs": [],
   "source": [
    "nums = [1,0,0,3,12]\n",
    "sol = Solution()\n",
    "sol.moveZeroes(nums)"
   ]
  },
  {
   "cell_type": "code",
   "execution_count": 56,
   "id": "2a8943eb-b72a-4ae5-a3dd-97db20e282d7",
   "metadata": {},
   "outputs": [
    {
     "data": {
      "text/plain": [
       "[1, 3, 12, 0, 0]"
      ]
     },
     "execution_count": 56,
     "metadata": {},
     "output_type": "execute_result"
    }
   ],
   "source": [
    "nums"
   ]
  },
  {
   "cell_type": "markdown",
   "id": "822474f8-666b-4693-a772-29f08b52c06f",
   "metadata": {},
   "source": [
    "### [21. Sliding Windows Maximum (hard)](https://leetcode.com/problems/sliding-window-maximum/)\n",
    "\n",
    "You are given an array of integers `nums`, there is a sliding window of size `k` which is moving from the very left of the array to the very right. You can only see the `k` numbers in the window. Each time the sliding window moves right by one position. Return the max sliding window.\n",
    "\n",
    "**Example 1:**\n",
    "\n",
    "Input: nums = [1,3,-1,-3,5,3,6,7], k = 3</br>\n",
    "Output: [3,3,5,5,6,7]</br>\n",
    "Explanation: </br>\n",
    "\n",
    "| Window position |  Max |\n",
    "| :----: | :---: |\n",
    "| [1  3  -1] -3  5  3  6  7    |   3 |\n",
    "| 1 [3  -1  -3] 5  3  6  7    |   3 \n",
    "| 1  3 [-1  -3  5] 3  6  7    |   5 |\n",
    "| 1  3  -1 [-3  5  3] 6  7    |   5 |\n",
    "| 1  3  -1  -3 [5  3  6] 7    |   6 |\n",
    "| 1  3  -1  -3  5 [3  6  7]   |   7 |\n",
    "\n",
    "**Example 2:**\n",
    "\n",
    "Input: nums = [1], k = 1</br>\n",
    "Output: [1]\n"
   ]
  },
  {
   "cell_type": "code",
   "execution_count": 90,
   "id": "58536889-86e3-4bf0-a0d4-cd88b9f0d8fe",
   "metadata": {},
   "outputs": [],
   "source": [
    "class Solution(object):\n",
    "    def maxSlidingWindow(self, nums, k):\n",
    "        \"\"\"\n",
    "        :type nums: List[int]\n",
    "        :type k: int\n",
    "        :rtype: List[int]\n",
    "        \"\"\"\n",
    "        # order matters\n",
    "        # the difficulty of this problem is simplifying the time complexity from O(kn) to O(n) -- using data structure!\n",
    "        \n",
    "        # most intuitive approach (but TLE):\n",
    "        # result = []\n",
    "        # l = 0\n",
    "        # r = l + k\n",
    "        # while r <= len(nums):\n",
    "        #     result.append(max(set(nums[l:r])))\n",
    "        #     l += 1\n",
    "        #     r += 1\n",
    "        # return result\n",
    "        from collections import deque\n",
    "        \n",
    "        q = deque()\n",
    "        res = []\n",
    "        for i, v in enumerate(nums):\n",
    "            print(\"Iteration\", i)\n",
    "            # obtaining sliding window maximum, we store a decreasing queue\n",
    "            while q and nums[q[-1]] <= v:\n",
    "                print(q)\n",
    "                q.pop()\n",
    "                \n",
    "            print(q)    \n",
    "            q.append(i)\n",
    "            \n",
    "            # by construction, first element is the index of the largest number in the window\n",
    "            # remove first element if it's outside the window\n",
    "            print(q)\n",
    "            if q[0] == i - k:\n",
    "                q.popleft()\n",
    "                \n",
    "            # if window has k elements add to results (first k-1 windows have < k elements because we start from empty window and add 1 element each iteration)\n",
    "            # e.g idx = 4 means a window already exists for idx 0 to 3\n",
    "            print(q)\n",
    "            if i >= k - 1:\n",
    "                res.append(nums[q[0]])\n",
    "        return res\n",
    "            "
   ]
  },
  {
   "cell_type": "code",
   "execution_count": 91,
   "id": "109cb8f6-bcea-4f54-8fad-aa51bc1266dc",
   "metadata": {},
   "outputs": [
    {
     "name": "stdout",
     "output_type": "stream",
     "text": [
      "Iteration 0\n",
      "deque([])\n",
      "deque([0])\n",
      "deque([0])\n",
      "Iteration 1\n",
      "deque([0])\n",
      "deque([0, 1])\n",
      "deque([0, 1])\n",
      "Iteration 2\n",
      "deque([0, 1])\n",
      "deque([0])\n",
      "deque([])\n",
      "deque([2])\n",
      "deque([2])\n",
      "Iteration 3\n",
      "deque([2])\n",
      "deque([])\n",
      "deque([3])\n",
      "deque([3])\n",
      "Iteration 4\n",
      "deque([3])\n",
      "deque([3, 4])\n",
      "deque([3, 4])\n",
      "Iteration 5\n",
      "deque([3, 4])\n",
      "deque([3])\n",
      "deque([3, 5])\n",
      "deque([3, 5])\n",
      "Iteration 6\n",
      "deque([3, 5])\n",
      "deque([3, 5, 6])\n",
      "deque([3, 5, 6])\n",
      "Iteration 7\n",
      "deque([3, 5, 6])\n",
      "deque([3, 5])\n",
      "deque([3, 5, 7])\n",
      "deque([5, 7])\n"
     ]
    },
    {
     "data": {
      "text/plain": [
       "[5, 5, 5, 5, 4]"
      ]
     },
     "execution_count": 91,
     "metadata": {},
     "output_type": "execute_result"
    }
   ],
   "source": [
    "sol = Solution()\n",
    "sol.maxSlidingWindow([2,1,4,5,3,4,1,2], 4)"
   ]
  },
  {
   "cell_type": "markdown",
   "id": "44d7e17e-c752-4ff8-bae8-5cd6cf8c2386",
   "metadata": {},
   "source": [
    "### [22. Squares of a Sorted Array (easy)](https://leetcode.com/problems/squares-of-a-sorted-array/)\n",
    "\n",
    "Given an integer array `nums` sorted in non-decreasing order, return an array of the squares of each number sorted in non-decreasing order.\n",
    "\n",
    "**Example 1:**\n",
    "\n",
    "Input: nums = [-4,-1,0,3,10]</br>\n",
    "Output: [0,1,9,16,100]</br>\n",
    "Explanation: After squaring, the array becomes [16,1,0,9,100].</br>\n",
    "After sorting, it becomes [0,1,9,16,100].\n",
    "\n",
    "**Example 2:**\n",
    "\n",
    "Input: nums = [-7,-3,2,3,11]</br>\n",
    "Output: [4,9,9,49,121]"
   ]
  },
  {
   "cell_type": "code",
   "execution_count": 63,
   "id": "3ca9e95a-4363-40b6-b7e4-207534b57954",
   "metadata": {},
   "outputs": [],
   "source": [
    "class Solution(object):\n",
    "    def sortedSquares(self, nums):\n",
    "        \"\"\"\n",
    "        :type nums: List[int]\n",
    "        :rtype: List[int]\n",
    "        \"\"\"\n",
    "        for i in range(len(nums)):\n",
    "            nums[i] *= nums[i]\n",
    "            \n",
    "        nums.sort()\n",
    "        \n",
    "        return nums"
   ]
  },
  {
   "cell_type": "code",
   "execution_count": 64,
   "id": "073ef4a5-4953-44e2-a6f1-c4899c8b24c4",
   "metadata": {},
   "outputs": [
    {
     "data": {
      "text/plain": [
       "[0, 1, 9, 16, 100]"
      ]
     },
     "execution_count": 64,
     "metadata": {},
     "output_type": "execute_result"
    }
   ],
   "source": [
    "sol = Solution()\n",
    "sol.sortedSquares([-4,-1,0,3,10])"
   ]
  },
  {
   "cell_type": "markdown",
   "id": "a370849b-dcb6-4a58-8220-4e1b605dc59b",
   "metadata": {},
   "source": [
    "### [23. 3Sum Closest (medium)](https://leetcode.com/problems/3sum-closest/)\n",
    "\n",
    "Given an integer array `nums` of length `n` and an integer `target`, find three integers in `nums` such that the sum is closest to `target`.\n",
    "\n",
    "Return the sum of the three integers.\n",
    "\n",
    "You may assume that each input would have exactly one solution.\n",
    "\n",
    "**Example 1:**\n",
    "\n",
    "Input: nums = [-1,2,1,-4], target = 1</br>\n",
    "Output: 2</br>\n",
    "Explanation: The sum that is closest to the target is 2. (-1 + 2 + 1 = 2).\n",
    "\n",
    "**Example 2:**\n",
    "\n",
    "Input: nums = [0,0,0], target = 1</br>\n",
    "Output: 0</br>\n",
    "Explanation: The sum that is closest to the target is 0. (0 + 0 + 0 = 0)."
   ]
  },
  {
   "cell_type": "code",
   "execution_count": 69,
   "id": "4b1f8d1e-89b7-491e-b722-b34761648efc",
   "metadata": {},
   "outputs": [],
   "source": [
    "class Solution(object):\n",
    "    def threeSumClosest(self, nums, target):\n",
    "        \"\"\"\n",
    "        :type nums: List[int]\n",
    "        :type target: int\n",
    "        :rtype: int\n",
    "        \"\"\"\n",
    "        nums.sort() # order need not be preserved\n",
    "        \n",
    "        # brute force: iterate every triplets using 3 for loops, take the minimum of (sum(i) - target) for triplet i\n",
    "        # typically, we can reduce most triple for loops into O(n^2) by nesting two pointer iteration under a for-loop\n",
    "        l = 1\n",
    "        r = len(nums) - 1\n",
    "        s = nums[0] + nums[l] + nums[r]\n",
    "        \n",
    "        for i in range(len(nums) - 1):\n",
    "            l = i + 1\n",
    "            r = len(nums) - 1\n",
    "            while l < r:\n",
    "                v = nums[i] + nums[l] + nums[r]\n",
    "                if abs(target - v) < abs(target - s):\n",
    "                    s = v\n",
    "                if v > target:\n",
    "                    r -= 1\n",
    "                elif v < target:\n",
    "                    l += 1\n",
    "                else:\n",
    "                    return v\n",
    "        return s"
   ]
  },
  {
   "cell_type": "code",
   "execution_count": 71,
   "id": "b2c03ce2-9556-46c3-b412-5bba9d4c9ef2",
   "metadata": {},
   "outputs": [
    {
     "data": {
      "text/plain": [
       "-1"
      ]
     },
     "execution_count": 71,
     "metadata": {},
     "output_type": "execute_result"
    }
   ],
   "source": [
    "sol = Solution()\n",
    "sol.threeSumClosest([-1,2,1,-4], 0)"
   ]
  },
  {
   "cell_type": "markdown",
   "id": "6938d0a0-c87d-4a7a-874e-48edcd11bea8",
   "metadata": {},
   "source": [
    "### [24. Non-overlapping Intervals (medium)](https://leetcode.com/problems/non-overlapping-intervals/)\n",
    "\n",
    "Given an array of intervals `intervals` where `intervals[i] = [starti, endi]`, return the minimum number of intervals you need to remove to make the rest of the intervals non-overlapping.\n",
    "\n",
    "**Example 1:**\n",
    "\n",
    "Input: intervals = [[1,2],[2,3],[3,4],[1,3]]</br>\n",
    "Output: 1</br>\n",
    "Explanation: [1,3] can be removed and the rest of the intervals are non-overlapping.\n",
    "\n",
    "**Example 2:**\n",
    "\n",
    "Input: intervals = [[1,2],[1,2],[1,2]]</br>\n",
    "Output: 2</br>\n",
    "Explanation: You need to remove two [1,2] to make the rest of the intervals non-overlapping.\n",
    "\n",
    "**Example 3:**\n",
    "\n",
    "Input: intervals = [[1,2],[2,3]]</br>\n",
    "Output: 0</br>\n",
    "Explanation: You don't need to remove any of the intervals since they're already non-overlapping."
   ]
  },
  {
   "cell_type": "code",
   "execution_count": 81,
   "id": "cf063954-29bd-4e26-9c6a-0be9a68c90d6",
   "metadata": {},
   "outputs": [],
   "source": [
    "class Solution(object):\n",
    "    def eraseOverlapIntervals(self, intervals):\n",
    "        \"\"\"\n",
    "        :type intervals: List[List[int]]\n",
    "        :rtype: int\n",
    "        \"\"\"\n",
    "        # From Example 1: we know [1,2], [2,3] counts as no overlap\n",
    "        # 3 types of overlap - (1) none as above, (2) partial e.g [1,2], [1, 3] or [1,3], [2, 3], (3) full i.e [1,3], [1,3] or [1,4], [2,3]\n",
    "        \n",
    "        # since order does not matter, we can imagine things to be easier if the intervals are sorted for us to check above conditions\n",
    "        # python's built-in list method .sort() does this! - uses Timsort (fastest sorting algorithm in practice)\n",
    "        # however, as the problem is adapted from interval scheduling, we consider the heuristic of sorting by end time first\n",
    "        # sorting by earliest end time produces the maximum number of non-overlapping intervals and therefore least number of intervals to remove\n",
    "        # i.e. [[1,3], [1,2], [1,4], [2,3]] becomes [[1,2], [1,3], [2,3], [1,4]]\n",
    "        \n",
    "        # examples:\n",
    "        # [[1,2], [1,3], [1,4], [2,3]] ---> remove 3\n",
    "        # [[1,2], [1,3], [2,3], [1,4]] ---> remove 2\n",
    "        \n",
    "        # Proof: https://www.youtube.com/watch?v=hVhOeaONg1Y&ab_channel=BackToBackSWE\n",
    "        \n",
    "        intervals.sort(key=lambda x: x[1])\n",
    "        count = 0\n",
    "        \n",
    "        l = 0\n",
    "        r = 1\n",
    "        while r < len(intervals):\n",
    "            # current start time earlier than end time of previous interval\n",
    "            if intervals[r][0] < intervals[l][1]:\n",
    "                count += 1\n",
    "                r += 1\n",
    "            \n",
    "            else:\n",
    "                l = r\n",
    "                r += 1\n",
    "                \n",
    "        return count\n",
    "                "
   ]
  },
  {
   "cell_type": "markdown",
   "id": "e76e0023-1f29-4a6d-ac18-c4c60593021a",
   "metadata": {},
   "source": [
    "**Note: Greedy pattern applied - sort and linear iteration**"
   ]
  },
  {
   "cell_type": "code",
   "execution_count": 85,
   "id": "a7caafc4-1a73-4ab5-b072-30cfdab0617c",
   "metadata": {},
   "outputs": [
    {
     "data": {
      "text/plain": [
       "7"
      ]
     },
     "execution_count": 85,
     "metadata": {},
     "output_type": "execute_result"
    }
   ],
   "source": [
    "intervals = [[-52,31],[-73,-26],[82,97],[-65,-11],[-62,-49],[95,99],[58,95],[-31,49],[66,98],[-63,2],[30,47],[-40,-26]]\n",
    "sol = Solution()\n",
    "sol.eraseOverlapIntervals(intervals)"
   ]
  },
  {
   "cell_type": "code",
   "execution_count": null,
   "id": "4687a4e1-c3cf-4bb5-9eb3-fd770c443506",
   "metadata": {},
   "outputs": [],
   "source": []
  }
 ],
 "metadata": {
  "kernelspec": {
   "display_name": "Python 3 (ipykernel)",
   "language": "python",
   "name": "python3"
  },
  "language_info": {
   "codemirror_mode": {
    "name": "ipython",
    "version": 3
   },
   "file_extension": ".py",
   "mimetype": "text/x-python",
   "name": "python",
   "nbconvert_exporter": "python",
   "pygments_lexer": "ipython3",
   "version": "3.9.12"
  }
 },
 "nbformat": 4,
 "nbformat_minor": 5
}
