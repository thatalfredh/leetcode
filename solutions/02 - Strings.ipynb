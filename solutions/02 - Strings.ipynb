{
 "cells": [
  {
   "cell_type": "markdown",
   "id": "3979210e-c050-4140-bfc6-48421421648f",
   "metadata": {},
   "source": [
    "## Strings"
   ]
  },
  {
   "cell_type": "markdown",
   "id": "9cbf0bd0-24d9-4b0d-98f8-e11281e5ac7a",
   "metadata": {},
   "source": [
    "### [1. Valid Palindrome (easy)](https://leetcode.com/problems/valid-palindrome/)\n",
    "\n",
    "A phrase is a palindrome if, after converting all uppercase letters into lowercase letters and removing all non-alphanumeric characters, it reads the same forward and backward. Alphanumeric characters include letters and numbers.\n",
    "\n",
    "Given a string `s`, return `true` if it is a palindrome, or `false` otherwise.\n",
    "\n",
    "**Example 1:**\n",
    "\n",
    "Input: s = \"A man, a plan, a canal: Panama\"</br>\n",
    "Output: true</br>\n",
    "Explanation: \"amanaplanacanalpanama\" is a palindrome.\n",
    "\n",
    "**Example 2:**\n",
    "\n",
    "Input: s = \"race a car\"</br>\n",
    "Output: false</br>\n",
    "Explanation: \"raceacar\" is not a palindrome.</br>\n",
    "\n",
    "**Example 3:**\n",
    "\n",
    "Input: s = \" \"</br>\n",
    "Output: true</br>\n",
    "Explanation: s is an empty string \"\" after removing non-alphanumeric characters.</br>\n",
    "Since an empty string reads the same forward and backward, it is a palindrome."
   ]
  },
  {
   "cell_type": "code",
   "execution_count": 12,
   "id": "df6b5f1c-b5ce-4a2b-8613-72d6cca7f910",
   "metadata": {},
   "outputs": [],
   "source": [
    "class Solution(object):\n",
    "    def isPalindrome(self, s):\n",
    "        \"\"\"\n",
    "        :type s: str\n",
    "        :rtype: bool\n",
    "        \"\"\"\n",
    "        import re\n",
    "        s = re.sub(r\"[^\\w]\", \"\", s).replace(\"_\", \"\").lower()\n",
    "        \n",
    "        l = 0\n",
    "        r = len(s) - 1\n",
    "        while l < r:\n",
    "            if s[l] != s[r]:\n",
    "                return False\n",
    "            l += 1\n",
    "            r -= 1\n",
    "        return True\n",
    "        "
   ]
  },
  {
   "cell_type": "code",
   "execution_count": 14,
   "id": "b40a6b63-ef54-4372-a9e7-054cb0d7d2a5",
   "metadata": {},
   "outputs": [
    {
     "data": {
      "text/plain": [
       "True"
      ]
     },
     "execution_count": 14,
     "metadata": {},
     "output_type": "execute_result"
    }
   ],
   "source": [
    "sol = Solution()\n",
    "sol.isPalindrome(\"A man, a plan, a canal: Panama\")"
   ]
  },
  {
   "cell_type": "markdown",
   "id": "c9b6e000-fdac-417a-8caa-11ed6c4a3736",
   "metadata": {},
   "source": [
    "### [2. Valid Anagram (easy)](https://leetcode.com/problems/valid-anagram/)\n",
    "\n",
    "Given two strings `s` and `t`, return `true` if `t` is an anagram of `s`, and `false` otherwise.\n",
    "\n",
    "An Anagram is a word or phrase formed by rearranging the letters of a different word or phrase, typically using all the original letters exactly once.\n",
    "\n",
    "**Example 1:**\n",
    "\n",
    "Input: s = \"anagram\", t = \"nagaram\"</br>\n",
    "Output: true</br>\n",
    "\n",
    "**Example 2:**\n",
    "\n",
    "Input: s = \"rat\", t = \"car\"</br>\n",
    "Output: false"
   ]
  },
  {
   "cell_type": "code",
   "execution_count": null,
   "id": "64b1ddfa-527e-4325-9549-92154024b090",
   "metadata": {},
   "outputs": [],
   "source": []
  },
  {
   "cell_type": "code",
   "execution_count": 20,
   "id": "10ed4ae9-5b79-499b-b7f7-e839409a3aca",
   "metadata": {},
   "outputs": [],
   "source": [
    "class Solution(object):\n",
    "    def isAnagram(self, s, t):\n",
    "        \"\"\"\n",
    "        :type s: str\n",
    "        :type t: str\n",
    "        :rtype: bool\n",
    "        \"\"\"\n",
    "        if len(s) != len(t):\n",
    "            return False\n",
    "        \n",
    "        s = sorted(s)\n",
    "        t = sorted(t)\n",
    "        \n",
    "        for i in range(len(s)):\n",
    "            if s[i] != t[i]:\n",
    "                return False\n",
    "            \n",
    "        return True"
   ]
  },
  {
   "cell_type": "code",
   "execution_count": 21,
   "id": "eca5e1d3-a8a3-41d6-ade1-776e4a61ba1e",
   "metadata": {},
   "outputs": [
    {
     "data": {
      "text/plain": [
       "False"
      ]
     },
     "execution_count": 21,
     "metadata": {},
     "output_type": "execute_result"
    }
   ],
   "source": [
    "sol = Solution()\n",
    "sol.isAnagram(\"anagram\", \"anngream\")"
   ]
  },
  {
   "cell_type": "markdown",
   "id": "e16db70e-ce50-4c05-8970-61ef26abb436",
   "metadata": {},
   "source": [
    "### [Longest Substring Withount Repeating Characters (medium)](https://leetcode.com/problems/longest-substring-without-repeating-characters/) \n",
    "\n",
    "Given a string `s`, find the length of the longest substring without repeating characters.\n",
    "\n",
    "**Example 1:**\n",
    "\n",
    "Input: s = \"abcabcbb\"</br>\n",
    "Output: 3</br>\n",
    "Explanation: The answer is \"abc\", with the length of 3.\n",
    "\n",
    "**Example 2:**\n",
    "\n",
    "Input: s = \"bbbbb\" </br>\n",
    "Output: 1</br>\n",
    "Explanation: The answer is \"b\", with the length of 1.\n",
    "\n",
    "**Example 3:**\n",
    "\n",
    "Input: s = \"pwwkew\"</br>\n",
    "Output: 3</br>\n",
    "Explanation: The answer is \"wke\", with the length of 3.</br>\n",
    "\n",
    "Notice that the answer must be a substring, \"pwke\" is a subsequence and not a substring."
   ]
  },
  {
   "cell_type": "code",
   "execution_count": 32,
   "id": "11dc977c-dbd2-46ec-a916-3bceab07f995",
   "metadata": {
    "tags": []
   },
   "outputs": [],
   "source": [
    "class Solution(object):\n",
    "    def lengthOfLongestSubstring(self, s):\n",
    "        \"\"\"\n",
    "        :type s: str\n",
    "        :rtype: int\n",
    "        \"\"\"\n",
    "        # as soon as we encounter a repeated character at j, we know the longest substring cannot be found from from i to j-1\n",
    "        # sliding window is a good way to handle this, we keep removing sequentially until we remove the repeated character\n",
    "        res = 0\n",
    "        window = set()\n",
    "        l = 0\n",
    "        for c in s:\n",
    "            while c in window:\n",
    "                window.remove(s[l])\n",
    "                l += 1\n",
    "            \n",
    "            window.add(c)\n",
    "            res = max(res, len(window))\n",
    "            \n",
    "        return res"
   ]
  },
  {
   "cell_type": "code",
   "execution_count": 36,
   "id": "af48276e-72cb-476c-b17c-37b8383956db",
   "metadata": {},
   "outputs": [],
   "source": [
    "s = set([1,2])"
   ]
  },
  {
   "cell_type": "code",
   "execution_count": 37,
   "id": "ee003832-f016-4703-b3f4-19935f370332",
   "metadata": {},
   "outputs": [
    {
     "data": {
      "text/plain": [
       "{2}"
      ]
     },
     "execution_count": 37,
     "metadata": {},
     "output_type": "execute_result"
    }
   ],
   "source": [
    "s.remove(1)\n",
    "s"
   ]
  },
  {
   "cell_type": "markdown",
   "id": "cea8025e-b18e-45c2-a28a-c923a64c5b90",
   "metadata": {},
   "source": [
    "### [4. Longest Palindrome (easy)](https://leetcode.com/problems/longest-palindrome/)\n",
    "\n",
    "Given a string `s` which consists of lowercase or uppercase letters, return the length of the longest palindrome that can be built with those letters.\n",
    "\n",
    "Letters are case sensitive, for example, \"Aa\" is not considered a palindrome here.\n",
    "\n",
    "**Example 1:**\n",
    "\n",
    "Input: s = \"abccccdd\"</br>\n",
    "Output: 7</br>\n",
    "Explanation: One longest palindrome that can be built is \"dccaccd\", whose length is 7.</br>\n",
    "\n",
    "**Example 2:**\n",
    "\n",
    "Input: s = \"a\"</br>\n",
    "Output: 1</br>\n",
    "Explanation: The longest palindrome that can be built is \"a\", whose length is 1."
   ]
  },
  {
   "cell_type": "code",
   "execution_count": 30,
   "id": "ca9dd200-2267-4107-8dd4-c1ff8099260f",
   "metadata": {},
   "outputs": [],
   "source": [
    "class Solution(object):\n",
    "    def longestPalindrome(self, s):\n",
    "        \"\"\"\n",
    "        :type s: str\n",
    "        :rtype: int\n",
    "        \"\"\"\n",
    "        d = {}\n",
    "        s = sorted(s)\n",
    "        for c in s: # map character to frequency\n",
    "            if c not in d:\n",
    "                d[c] = 1\n",
    "            else:\n",
    "                d[c] += 1\n",
    "                \n",
    "        # palindromes can be formed by taking all even counts of each character \n",
    "        # and lastly adding any single character if odd counts exists\n",
    "        res = 0\n",
    "        odd = 0\n",
    "        for k in d: \n",
    "            res += d[k] // 2 * 2\n",
    "            if d[k] % 2 == 1:\n",
    "                odd = 1\n",
    "                \n",
    "        return res + odd"
   ]
  },
  {
   "cell_type": "code",
   "execution_count": 31,
   "id": "a6143cd3-0d10-4a30-ac52-e65f18f8a241",
   "metadata": {},
   "outputs": [
    {
     "data": {
      "text/plain": [
       "3"
      ]
     },
     "execution_count": 31,
     "metadata": {},
     "output_type": "execute_result"
    }
   ],
   "source": [
    "sol = Solution()\n",
    "sol.longestPalindrome(\"hellow\")"
   ]
  },
  {
   "cell_type": "code",
   "execution_count": null,
   "id": "c7f04cc5-6e23-4f12-8d0a-a89d85595ccd",
   "metadata": {},
   "outputs": [],
   "source": []
  }
 ],
 "metadata": {
  "kernelspec": {
   "display_name": "Python 3 (ipykernel)",
   "language": "python",
   "name": "python3"
  },
  "language_info": {
   "codemirror_mode": {
    "name": "ipython",
    "version": 3
   },
   "file_extension": ".py",
   "mimetype": "text/x-python",
   "name": "python",
   "nbconvert_exporter": "python",
   "pygments_lexer": "ipython3",
   "version": "3.9.12"
  }
 },
 "nbformat": 4,
 "nbformat_minor": 5
}
