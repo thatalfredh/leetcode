{
 "cells": [
  {
   "cell_type": "markdown",
   "metadata": {},
   "source": [
    "## Math\n",
    "___"
   ]
  },
  {
   "cell_type": "markdown",
   "metadata": {},
   "source": [
    "### 1. [Roman to Integer (easy)](https://leetcode.com/problems/roman-to-integer)\n",
    "\n",
    "Roman numerals are represented by seven different symbols: I, V, X, L, C, D and M.\n",
    "\n",
    "| Symbol | Value |\n",
    "| :---: | ---: |\n",
    "| I | 1 |\n",
    "| V | 5 |\n",
    "| X | 10 |\n",
    "| L | 50 |\n",
    "| C | 100 |\n",
    "| D | 500 |\n",
    "| M | 1000 |\n",
    "\n",
    "For example, 2 is written as II in Roman numeral, just two ones added together. 12 is written as XII, which is simply X + II. The number 27 is written as XXVII, which is XX + V + II.\n",
    "\n",
    "Roman numerals are usually written largest to smallest from left to right. However, the numeral for four is not IIII. Instead, the number four is written as IV. Because the one is before the five we subtract it making four. The same principle applies to the number nine, which is written as IX. \n",
    "\n",
    "There are six instances where subtraction is used:\n",
    "\n",
    "- I can be placed before V (5) and X (10) to make 4 and 9. \n",
    "- X can be placed before L (50) and C (100) to make 40 and 90. \n",
    "- C can be placed before D (500) and M (1000) to make 400 and 900.\n",
    "\n",
    "Given a roman numeral, convert it to an integer."
   ]
  },
  {
   "cell_type": "code",
   "execution_count": 7,
   "metadata": {},
   "outputs": [],
   "source": [
    "class Solution:\n",
    "    def romanToInt(self, s: str) -> int:\n",
    "        \n",
    "        values = {'I': 1, 'V': 5, 'X': 10, 'L': 50, 'C': 100, 'D': 500, 'M': 1000}\n",
    "        v = values[s[0]]\n",
    "        for i in range(1, len(s)):\n",
    "            if values[s[i]] > values[s[i-1]]:\n",
    "                v -= values[s[i-1]]\n",
    "                v += values[s[i]] - values[s[i-1]]\n",
    "\n",
    "            v += values[s[i]]\n",
    "\n",
    "        return v"
   ]
  },
  {
   "cell_type": "code",
   "execution_count": 10,
   "metadata": {},
   "outputs": [
    {
     "name": "stdout",
     "output_type": "stream",
     "text": [
      "3\n",
      "58\n",
      "1994\n"
     ]
    }
   ],
   "source": [
    "sol = Solution()\n",
    "print(sol.romanToInt(\"III\")) # 3\n",
    "print(sol.romanToInt(\"LVIII\")) # 58\n",
    "print(sol.romanToInt(\"MCMXCIV\")) # 1994"
   ]
  },
  {
   "cell_type": "markdown",
   "metadata": {},
   "source": [
    "### 2. [Random Pick with Weight (medium)]()\n",
    "\n",
    "You are given a 0-indexed array of positive integers `w` where `w[i]` describes the weight of the `i`-th index.\n",
    "\n",
    "You need to implement the function pickIndex(), which randomly picks an index in the range `[0, w.length - 1]` (inclusive) and returns it. The probability of picking an index i is `w[i] / sum(w)`.\n",
    "\n",
    "For example, if `w = [1, 3]`, the probability of picking index 0 is 1 / (1 + 3) = 0.25 (i.e., 25%), and the probability of picking index 1 is 3 / (1 + 3) = 0.75 (i.e., 75%)."
   ]
  },
  {
   "cell_type": "code",
   "execution_count": 21,
   "metadata": {},
   "outputs": [],
   "source": [
    "import random \n",
    "from typing import List\n",
    "class Solution:\n",
    "\n",
    "    def __init__(self, w: List[int]):\n",
    "\n",
    "        self.w = w\n",
    "        self.len = len(w)\n",
    "        self.cumu_sum = []\n",
    "        self.total = 0\n",
    "        for i in range(self.len):\n",
    "            self.total += self.w[i]\n",
    "            self.cumu_sum.append(self.total) # having the cumulative sum allows us to do binary search rather than having to keep track of which numbers have yet to converge to its weight\n",
    "\n",
    "    def pickIndex(self) -> int:\n",
    "        rand = random.uniform(0, self.total)\n",
    "        l, r = 0, self.len\n",
    "\n",
    "        while l < r:\n",
    "            mid = (l + r) // 2\n",
    "\n",
    "            if rand > self.cumu_sum[mid]:\n",
    "                l = mid + 1\n",
    "            else:\n",
    "                r = mid\n",
    "\n",
    "        return l"
   ]
  },
  {
   "cell_type": "code",
   "execution_count": 28,
   "metadata": {},
   "outputs": [
    {
     "name": "stdout",
     "output_type": "stream",
     "text": [
      "2\n",
      "2\n",
      "2\n",
      "2\n",
      "2\n",
      "2\n",
      "0\n",
      "2\n",
      "2\n",
      "0\n",
      "2\n",
      "1\n",
      "2\n",
      "2\n",
      "1\n",
      "0\n"
     ]
    }
   ],
   "source": [
    "sol = Solution([1,2,3])\n",
    "print(sol.pickIndex())\n",
    "print(sol.pickIndex())\n",
    "print(sol.pickIndex())\n",
    "print(sol.pickIndex())\n",
    "print(sol.pickIndex())\n",
    "print(sol.pickIndex())\n",
    "print(sol.pickIndex())\n",
    "print(sol.pickIndex())\n",
    "print(sol.pickIndex())\n",
    "print(sol.pickIndex())\n",
    "print(sol.pickIndex())\n",
    "print(sol.pickIndex())\n",
    "print(sol.pickIndex())\n",
    "print(sol.pickIndex())\n",
    "print(sol.pickIndex())\n",
    "print(sol.pickIndex())"
   ]
  },
  {
   "cell_type": "markdown",
   "metadata": {},
   "source": [
    "### 3. [Pow(x, n) (medium)](https://leetcode.com/problems/powx-n/description/)\n",
    "\n",
    "Implement `pow(x, n)`, which calculates $x$ raised to the power $n$ (i.e., $x^n$)."
   ]
  },
  {
   "cell_type": "code",
   "execution_count": 35,
   "metadata": {},
   "outputs": [],
   "source": [
    "# iterative approach - breaking down the multiplications\n",
    "\n",
    "\"\"\"\n",
    "example:\n",
    "\n",
    "5^10 = 5^50 * 5^50 \n",
    "     = (5^2) ^ 50 = (5^4) ^ 25 \n",
    "     = (5^4) (5^8) ^ 12 \n",
    "     = (5^4)(5^8)^6 * (5^8)^6 \n",
    "     = (5^4)(5^16)^6 \n",
    "     = (5^4)(5^32)^3\n",
    "     = (5^4)(5^32)(5^64)\n",
    "\"\"\"\n",
    "class Solution:\n",
    "    def myPow(self, x: float, n: int) -> float:\n",
    "        \n",
    "        if n < 0:\n",
    "            x = 1/x \n",
    "            n = -n\n",
    "        res = 1\n",
    "\n",
    "        while n:\n",
    "            if n % 2 == 1:\n",
    "                res *= x\n",
    "                n -= 1\n",
    "            else:\n",
    "                x *= x\n",
    "                n /= 2\n",
    "\n",
    "        return res"
   ]
  },
  {
   "cell_type": "code",
   "execution_count": 38,
   "metadata": {},
   "outputs": [
    {
     "name": "stdout",
     "output_type": "stream",
     "text": [
      "1024\n",
      "-2048\n"
     ]
    }
   ],
   "source": [
    "sol = Solution()\n",
    "print(sol.myPow(2, 10))\n",
    "print(sol.myPow(-2, 11))"
   ]
  },
  {
   "cell_type": "markdown",
   "metadata": {},
   "source": [
    "### 4. [Reverse Integer (medium)](https://leetcode.com/problems/reverse-integer/description/)\n",
    "\n",
    "Given a signed 32-bit integer `x`, return `x` with its digits reversed. If reversing `x` causes the value to go outside the signed 32-bit integer range `[-231, 231 - 1]`, then return 0.\n",
    "\n",
    "Assume the environment does not allow you to store 64-bit integers (signed or unsigned)."
   ]
  },
  {
   "cell_type": "code",
   "execution_count": 44,
   "metadata": {},
   "outputs": [
    {
     "data": {
      "text/plain": [
       "9223372036854775807"
      ]
     },
     "execution_count": 44,
     "metadata": {},
     "output_type": "execute_result"
    }
   ],
   "source": [
    "# using string conversion lol\n",
    "\n",
    "class Solution:\n",
    "    def reverse(self, x: int) -> int:\n",
    "        mn, mx = (-2)**31, 2**31 - 1\n",
    "        x_str = str(x)\n",
    "        flag = 1\n",
    "        if x_str[0] == \"-\":\n",
    "            x_str = x_str[1:]\n",
    "            flag = -1\n",
    "\n",
    "        x = list(map(int, list(x_str)))\n",
    "  \n",
    "        l, r = 0, len(x) - 1\n",
    "        while l < r:\n",
    "            x[l], x[r] = x[r], x[l]\n",
    "            l += 1\n",
    "            r -= 1\n",
    "    \n",
    "        while x[0] == 0:\n",
    "            if len(x) == 1:\n",
    "                return x[0]\n",
    "            x = x[1:]\n",
    "        \n",
    "        rev = int(\"\".join(map(str, x))) * flag\n",
    "        if rev < mn or rev > mx:\n",
    "            return 0\n",
    "\n",
    "        return rev"
   ]
  },
  {
   "cell_type": "code",
   "execution_count": null,
   "metadata": {},
   "outputs": [],
   "source": [
    "class Solution:\n",
    "    def reverse(self, x: int) -> int:\n",
    "        mn, mx = (-2)**31, 2**31 - 1\n",
    "\n",
    "        res = 0\n",
    "        if x > 0:\n",
    "            flag = 1\n",
    "        else:\n",
    "            flag = -1\n",
    "            x *= flag\n",
    "\n",
    "        while x:\n",
    "            last = x % 10\n",
    "            x //= 10\n",
    "            res = res*10 + last\n",
    "\n",
    "        if res * flag > mx or res * flag < mn:\n",
    "            return 0\n",
    "\n",
    "        return res * flag"
   ]
  },
  {
   "cell_type": "markdown",
   "metadata": {},
   "source": [
    "### 5. [Palindrome Number (easy)](https://leetcode.com/problems/palindrome-number/)\n",
    "\n",
    "Given an integer `x`, return `true` if `x` is a palindrome and `false` otherwise."
   ]
  },
  {
   "cell_type": "code",
   "execution_count": 93,
   "metadata": {},
   "outputs": [],
   "source": [
    "class Solution_1:\n",
    "    def isPalindrome(self, x: int) -> bool:\n",
    "\n",
    "        x_str = str(x)\n",
    "        l, r = 0, len(x_str)-1\n",
    "        while l < r:\n",
    "            if x_str[l] != x_str[r]:\n",
    "                return False\n",
    "            l += 1\n",
    "            r -= 1\n",
    "        return True\n",
    "\n",
    "class Solution_2:\n",
    "    def isPalindrome(self, x: int) -> bool:\n",
    "        \n",
    "        if x < 0:\n",
    "            return False\n",
    "        \n",
    "        import math\n",
    "        def length(x):\n",
    "            if x > 0:\n",
    "                return int(math.log10(x)) + 1\n",
    "            elif x == 0:\n",
    "                return 1\n",
    "            else:\n",
    "                return -1\n",
    "            \n",
    "        l = length(x)\n",
    "        leading_zeros = 0\n",
    "\n",
    "        while l > 1:\n",
    "            if not leading_zeros:\n",
    "                first = x // 10**(l-1)\n",
    "            else:\n",
    "                first = 0\n",
    "                leading_zeros -= 1\n",
    "\n",
    "            last = x % 10\n",
    "            if first != last:\n",
    "                return False\n",
    "\n",
    "            if not leading_zeros:\n",
    "                x = x - first * 10**(l-1)\n",
    "\n",
    "            if l - length(x) > 1:\n",
    "                leading_zeros = l - length(x) - 1\n",
    "\n",
    "            x //= 10\n",
    "            l = length(x) + leading_zeros\n",
    "\n",
    "        return True"
   ]
  },
  {
   "cell_type": "code",
   "execution_count": 94,
   "metadata": {},
   "outputs": [
    {
     "name": "stdout",
     "output_type": "stream",
     "text": [
      "True\n",
      "False\n",
      "True\n"
     ]
    }
   ],
   "source": [
    "sol_1 = Solution_1()\n",
    "print(sol_1.isPalindrome(121))\n",
    "print(sol_1.isPalindrome(123))\n",
    "print(sol_1.isPalindrome(2222))"
   ]
  },
  {
   "cell_type": "code",
   "execution_count": 96,
   "metadata": {},
   "outputs": [
    {
     "name": "stdout",
     "output_type": "stream",
     "text": [
      "True\n",
      "False\n",
      "True\n"
     ]
    }
   ],
   "source": [
    "sol_2 = Solution_2()\n",
    "print(sol_2.isPalindrome(121))\n",
    "print(sol_2.isPalindrome(123))\n",
    "print(sol_2.isPalindrome(2222))"
   ]
  }
 ],
 "metadata": {
  "kernelspec": {
   "display_name": "Python 3",
   "language": "python",
   "name": "python3"
  },
  "language_info": {
   "codemirror_mode": {
    "name": "ipython",
    "version": 3
   },
   "file_extension": ".py",
   "mimetype": "text/x-python",
   "name": "python",
   "nbconvert_exporter": "python",
   "pygments_lexer": "ipython3",
   "version": "3.9.13"
  }
 },
 "nbformat": 4,
 "nbformat_minor": 2
}
